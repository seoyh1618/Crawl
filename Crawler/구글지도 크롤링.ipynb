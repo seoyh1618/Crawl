{
 "cells": [
  {
   "cell_type": "markdown",
   "id": "e4873a2b",
   "metadata": {},
   "source": [
    "###### 작성자 : 손해원 , 수정 : 서연호 \n",
    "###### 구글지도 장소\n",
    "- 검색어 설정 후 순서대로 실행"
   ]
  },
  {
   "cell_type": "code",
   "execution_count": 1,
   "id": "6d50349f",
   "metadata": {},
   "outputs": [],
   "source": [
    "from selenium import webdriver\n",
    "from selenium.webdriver.common.keys import Keys\n",
    "from tqdm import tqdm\n",
    "import pandas as pd\n",
    "import time"
   ]
  },
  {
   "cell_type": "code",
   "execution_count": 2,
   "id": "15955db5",
   "metadata": {},
   "outputs": [
    {
     "name": "stderr",
     "output_type": "stream",
     "text": [
      "<ipython-input-2-4770ba30d060>:1: DeprecationWarning: executable_path has been deprecated, please pass in a Service object\n",
      "  driver = webdriver.Chrome('C:/dev_python/Webdriver/chromedriver')\n"
     ]
    }
   ],
   "source": [
    "driver = webdriver.Chrome('C:/dev_python/Webdriver/chromedriver')"
   ]
  },
  {
   "cell_type": "markdown",
   "id": "f44b53d0",
   "metadata": {},
   "source": [
    "##### 검색어 설정"
   ]
  },
  {
   "cell_type": "code",
   "execution_count": 3,
   "id": "6accd969",
   "metadata": {},
   "outputs": [],
   "source": [
    "url = 'https://www.google.com/maps/search/김천호텔' ##### 검색어 설정 \n",
    "driver.get(url)\n",
    "driver.maximize_window()"
   ]
  },
  {
   "cell_type": "markdown",
   "id": "4e89dfcb",
   "metadata": {},
   "source": [
    "##### url 수집"
   ]
  },
  {
   "cell_type": "code",
   "execution_count": 4,
   "id": "28130c42",
   "metadata": {},
   "outputs": [
    {
     "name": "stderr",
     "output_type": "stream",
     "text": [
      "  0%|                                                                                           | 0/10 [00:00<?, ?it/s]<ipython-input-4-81575f6e30ee>:5: DeprecationWarning: find_element_by_* commands are deprecated. Please use find_element() instead\n",
      "  driver.find_element_by_class_name('a4gq8e-aVTXAb-haAclf-jRmmHf-hSRGPd').send_keys(Keys.PAGE_DOWN)\n",
      "<ipython-input-4-81575f6e30ee>:7: DeprecationWarning: find_elements_by_* commands are deprecated. Please use find_elements() instead\n",
      "  upso_list = driver.find_elements_by_class_name('a4gq8e-aVTXAb-haAclf-jRmmHf-hSRGPd') # 숙박업소 리스트\n",
      "<ipython-input-4-81575f6e30ee>:14: DeprecationWarning: find_element_by_* commands are deprecated. Please use find_element() instead\n",
      "  driver.find_element_by_css_selector('#ppdPk-Ej1Yeb-LgbsSe-tJiF1e').click() # 다음 페이지 클릭\n",
      "100%|██████████████████████████████████████████████████████████████████████████████████| 10/10 [03:32<00:00, 21.25s/it]\n"
     ]
    }
   ],
   "source": [
    "url_list = []\n",
    "\n",
    "for x in tqdm(range(10)):# 마지막 페이지 제외 1회당 20개   \n",
    "    for i in range(25): # 페이지 스크롤 다운 기능 \n",
    "        driver.find_element_by_class_name('a4gq8e-aVTXAb-haAclf-jRmmHf-hSRGPd').send_keys(Keys.PAGE_DOWN)\n",
    "\n",
    "    upso_list = driver.find_elements_by_class_name('a4gq8e-aVTXAb-haAclf-jRmmHf-hSRGPd') # 숙박업소 리스트\n",
    "    \n",
    "    for j in range(len(upso_list)): # url 스크랩 \n",
    "        time.sleep(1)\n",
    "        detail_url = upso_list[j].get_attribute('href')\n",
    "        url_list.append(detail_url)\n",
    "\n",
    "    driver.find_element_by_css_selector('#ppdPk-Ej1Yeb-LgbsSe-tJiF1e').click() # 다음 페이지 클릭 \n",
    "    x+=1\n",
    "\n",
    "###### 검색 내역이 끝나면 'element click intercepted' 에러 발생 후 종료 "
   ]
  },
  {
   "cell_type": "code",
   "execution_count": 5,
   "id": "b89545ed",
   "metadata": {
    "scrolled": true
   },
   "outputs": [
    {
     "name": "stdout",
     "output_type": "stream",
     "text": [
      "수집할 장소 개수 :  200\n",
      "['https://www.google.com/maps/place/%EB%A1%9C%EC%A0%9C%EB%8B%88%EC%95%84%ED%98%B8%ED%85%94/data=!4m8!3m7!1s0x3565bd7ba782b28b:0x5d0b3f7526453e18!5m2!4m1!1i2!8m2!3d36.1175931!4d128.1819973?authuser=0&hl=ko&rclk=1', 'https://www.google.com/maps/place/%EA%B9%80%EC%B2%9C+%ED%98%B8%ED%85%94+%EC%9D%B4%EC%83%81/data=!4m8!3m7!1s0x3565bd0b05c6b64d:0x37ae88bd54e0c5f5!5m2!4m1!1i2!8m2!3d36.1156099!4d128.1841475?authuser=0&hl=ko&rclk=1', 'https://www.google.com/maps/place/%EC%B9%B8%ED%94%8C%EB%9F%AC%EC%8A%A4+%EB%AA%A8%ED%85%94/data=!4m8!3m7!1s0x356597f8d11d3a8b:0xff3d21d224d35d8c!5m2!4m1!1i2!8m2!3d36.1183662!4d128.1499174?authuser=0&hl=ko&rclk=1', 'https://www.google.com/maps/place/Gimcheon+EX/data=!4m8!3m7!1s0x3565980d7a1cbe11:0x12e9ea826046e460!5m2!4m1!1i2!8m2!3d36.122546!4d128.128887?authuser=0&hl=ko&rclk=1', 'https://www.google.com/maps/place/Gimcheon+Zero+Self+Check-in+Motel/data=!4m8!3m7!1s0x35659ee29f2ccbb7:0x5394332723f81543!5m2!4m1!1i2!8m2!3d36.129605!4d128.032862?authuser=0&hl=ko&rclk=1', 'https://www.google.com/maps/place/Gimcheon+Hisense/data=!4m8!3m7!1s0x3565989d2406b45d:0xac081b71fb30899a!5m2!4m1!1i2!8m2!3d36.142367!4d128.093901?authuser=0&hl=ko&rclk=1', 'https://www.google.com/maps/place/%ED%98%B8%ED%85%94%EA%B8%88%EC%98%A4%EC%82%B0/data=!4m8!3m7!1s0x3565c0a9a539171f:0x37e531a5773d1c01!5m2!4m1!1i2!8m2!3d36.1102125!4d128.3097059?authuser=0&hl=ko&rclk=1', 'https://www.google.com/maps/place/%EA%B7%B9%EB%8F%99%EC%9E%A5%EC%97%AC%EA%B4%80/data=!4m8!3m7!1s0x3565988af88f8625:0x3c8564c0de8a1245!5m2!4m1!1i2!8m2!3d36.1245731!4d128.103253?authuser=0&hl=ko&rclk=1', 'https://www.google.com/maps/place/%EA%B0%80%EB%B9%88%EB%AA%A8%ED%85%94/data=!4m8!3m7!1s0x3565980dbd57b165:0x793fbbce720b9ab!5m2!4m1!1i2!8m2!3d36.12282!4d128.12991?authuser=0&hl=ko&rclk=1', 'https://www.google.com/maps/place/%EC%95%84%EB%A6%AC%EC%95%84%EC%9E%A5%EC%97%AC%EA%B4%80/data=!4m8!3m7!1s0x356598127e3f4a91:0xbaf7fba7061eb777!5m2!4m1!1i2!8m2!3d36.1208974!4d128.1295351?authuser=0&hl=ko&rclk=1', 'https://www.google.com/maps/place/%EB%B2%A0%EB%84%A4%EC%B9%98%EC%95%84/data=!4m8!3m7!1s0x3565980d9a72ff85:0x77fb3920edcb14f0!5m2!4m1!1i2!8m2!3d36.1224517!4d128.1298821?authuser=0&hl=ko&rclk=1', 'https://www.google.com/maps/place/%EB%B0%80%EB%9D%BC%EB%85%B8%EB%AA%A8%ED%85%94/data=!4m8!3m7!1s0x3565980da9311563:0x7f6a9d91d0a788b8!5m2!4m1!1i2!8m2!3d36.1196051!4d128.1279324?authuser=0&hl=ko&rclk=1', 'https://www.google.com/maps/place/%EC%9E%90%EC%9D%B4%EB%AA%A8%ED%85%94/data=!4m8!3m7!1s0x35659812875c9303:0xdabf04e9183aa138!5m2!4m1!1i2!8m2!3d36.1215385!4d128.1291996?authuser=0&hl=ko&rclk=1', 'https://www.google.com/maps/place/Gimcheon+YS+Self+Check-in+Motel/data=!4m8!3m7!1s0x3565be3f5c10b9bd:0xb003cff620ad1055!5m2!4m1!1i2!8m2!3d36.101403!4d128.257532?authuser=0&hl=ko&rclk=1', 'https://www.google.com/maps/place/%EB%AA%A8%ED%85%94%EC%9C%88/data=!4m8!3m7!1s0x35659812e948d8b1:0x9ba2a116c7af985a!5m2!4m1!1i2!8m2!3d36.1207447!4d128.1282118?authuser=0&hl=ko&rclk=1', 'https://www.google.com/maps/place/%EB%AF%B8%EB%9D%BC%ED%81%B4%EB%AA%A8%ED%85%94/data=!4m8!3m7!1s0x3565980dbcb9f4d5:0x18da85c54f2255b8!5m2!4m1!1i2!8m2!3d36.1230105!4d128.1299408?authuser=0&hl=ko&rclk=1', 'https://www.google.com/maps/place/%EB%AA%BD%ED%94%8C%EB%9F%AC%EC%8A%A4%EB%AA%A8%ED%85%94/data=!4m8!3m7!1s0x35659813a8c3148f:0x5ca06a833db1bb4a!5m2!4m1!1i2!8m2!3d36.1189713!4d128.1294965?authuser=0&hl=ko&rclk=1', 'https://www.google.com/maps/place/%EC%88%98%EB%AA%A8%ED%85%94/data=!4m8!3m7!1s0x3565988a6350187b:0x20fc16f2a388daf8!5m2!4m1!1i2!8m2!3d36.1242951!4d128.1047524?authuser=0&hl=ko&rclk=1', 'https://www.google.com/maps/place/Gimcheon+Zai/data=!4m8!3m7!1s0x35659812875a6393:0x51d38f402460f4e9!5m2!4m1!1i2!8m2!3d36.121556!4d128.129204?authuser=0&hl=ko&rclk=1', 'https://www.google.com/maps/place/%EC%BB%A4%ED%94%8C%EB%AA%A8%ED%85%94/data=!4m8!3m7!1s0x356597ff2b3b8f7d:0x1608d9f16cfa2997!5m2!4m1!1i2!8m2!3d36.1187625!4d128.1501492?authuser=0&hl=ko&rclk=1', 'https://www.google.com/maps/place/%EB%A1%9C%EC%A0%9C%EB%8B%88%EC%95%84%ED%98%B8%ED%85%94/data=!4m8!3m7!1s0x3565bd7ba782b28b:0x5d0b3f7526453e18!5m2!4m1!1i2!8m2!3d36.1175931!4d128.1819973?authuser=0&hl=ko&rclk=1', 'https://www.google.com/maps/place/%EA%B9%80%EC%B2%9C+%ED%98%B8%ED%85%94+%EC%9D%B4%EC%83%81/data=!4m8!3m7!1s0x3565bd0b05c6b64d:0x37ae88bd54e0c5f5!5m2!4m1!1i2!8m2!3d36.1156099!4d128.1841475?authuser=0&hl=ko&rclk=1', 'https://www.google.com/maps/place/%EC%B9%B8%ED%94%8C%EB%9F%AC%EC%8A%A4+%EB%AA%A8%ED%85%94/data=!4m8!3m7!1s0x356597f8d11d3a8b:0xff3d21d224d35d8c!5m2!4m1!1i2!8m2!3d36.1183662!4d128.1499174?authuser=0&hl=ko&rclk=1', 'https://www.google.com/maps/place/Gimcheon+EX/data=!4m8!3m7!1s0x3565980d7a1cbe11:0x12e9ea826046e460!5m2!4m1!1i2!8m2!3d36.122546!4d128.128887?authuser=0&hl=ko&rclk=1', 'https://www.google.com/maps/place/Gimcheon+Zero+Self+Check-in+Motel/data=!4m8!3m7!1s0x35659ee29f2ccbb7:0x5394332723f81543!5m2!4m1!1i2!8m2!3d36.129605!4d128.032862?authuser=0&hl=ko&rclk=1', 'https://www.google.com/maps/place/Gimcheon+Hisense/data=!4m8!3m7!1s0x3565989d2406b45d:0xac081b71fb30899a!5m2!4m1!1i2!8m2!3d36.142367!4d128.093901?authuser=0&hl=ko&rclk=1', 'https://www.google.com/maps/place/%ED%98%B8%ED%85%94%EA%B8%88%EC%98%A4%EC%82%B0/data=!4m8!3m7!1s0x3565c0a9a539171f:0x37e531a5773d1c01!5m2!4m1!1i2!8m2!3d36.1102125!4d128.3097059?authuser=0&hl=ko&rclk=1', 'https://www.google.com/maps/place/%EA%B7%B9%EB%8F%99%EC%9E%A5%EC%97%AC%EA%B4%80/data=!4m8!3m7!1s0x3565988af88f8625:0x3c8564c0de8a1245!5m2!4m1!1i2!8m2!3d36.1245731!4d128.103253?authuser=0&hl=ko&rclk=1', 'https://www.google.com/maps/place/%EA%B0%80%EB%B9%88%EB%AA%A8%ED%85%94/data=!4m8!3m7!1s0x3565980dbd57b165:0x793fbbce720b9ab!5m2!4m1!1i2!8m2!3d36.12282!4d128.12991?authuser=0&hl=ko&rclk=1', 'https://www.google.com/maps/place/%EC%95%84%EB%A6%AC%EC%95%84%EC%9E%A5%EC%97%AC%EA%B4%80/data=!4m8!3m7!1s0x356598127e3f4a91:0xbaf7fba7061eb777!5m2!4m1!1i2!8m2!3d36.1208974!4d128.1295351?authuser=0&hl=ko&rclk=1', 'https://www.google.com/maps/place/%EB%B2%A0%EB%84%A4%EC%B9%98%EC%95%84/data=!4m8!3m7!1s0x3565980d9a72ff85:0x77fb3920edcb14f0!5m2!4m1!1i2!8m2!3d36.1224517!4d128.1298821?authuser=0&hl=ko&rclk=1', 'https://www.google.com/maps/place/%EB%B0%80%EB%9D%BC%EB%85%B8%EB%AA%A8%ED%85%94/data=!4m8!3m7!1s0x3565980da9311563:0x7f6a9d91d0a788b8!5m2!4m1!1i2!8m2!3d36.1196051!4d128.1279324?authuser=0&hl=ko&rclk=1', 'https://www.google.com/maps/place/%EC%9E%90%EC%9D%B4%EB%AA%A8%ED%85%94/data=!4m8!3m7!1s0x35659812875c9303:0xdabf04e9183aa138!5m2!4m1!1i2!8m2!3d36.1215385!4d128.1291996?authuser=0&hl=ko&rclk=1', 'https://www.google.com/maps/place/Gimcheon+YS+Self+Check-in+Motel/data=!4m8!3m7!1s0x3565be3f5c10b9bd:0xb003cff620ad1055!5m2!4m1!1i2!8m2!3d36.101403!4d128.257532?authuser=0&hl=ko&rclk=1', 'https://www.google.com/maps/place/%EB%AA%A8%ED%85%94%EC%9C%88/data=!4m8!3m7!1s0x35659812e948d8b1:0x9ba2a116c7af985a!5m2!4m1!1i2!8m2!3d36.1207447!4d128.1282118?authuser=0&hl=ko&rclk=1', 'https://www.google.com/maps/place/%EB%AF%B8%EB%9D%BC%ED%81%B4%EB%AA%A8%ED%85%94/data=!4m8!3m7!1s0x3565980dbcb9f4d5:0x18da85c54f2255b8!5m2!4m1!1i2!8m2!3d36.1230105!4d128.1299408?authuser=0&hl=ko&rclk=1', 'https://www.google.com/maps/place/%EB%AA%BD%ED%94%8C%EB%9F%AC%EC%8A%A4%EB%AA%A8%ED%85%94/data=!4m8!3m7!1s0x35659813a8c3148f:0x5ca06a833db1bb4a!5m2!4m1!1i2!8m2!3d36.1189713!4d128.1294965?authuser=0&hl=ko&rclk=1', 'https://www.google.com/maps/place/%EC%88%98%EB%AA%A8%ED%85%94/data=!4m8!3m7!1s0x3565988a6350187b:0x20fc16f2a388daf8!5m2!4m1!1i2!8m2!3d36.1242951!4d128.1047524?authuser=0&hl=ko&rclk=1', 'https://www.google.com/maps/place/Gimcheon+Zai/data=!4m8!3m7!1s0x35659812875a6393:0x51d38f402460f4e9!5m2!4m1!1i2!8m2!3d36.121556!4d128.129204?authuser=0&hl=ko&rclk=1', 'https://www.google.com/maps/place/%EC%BB%A4%ED%94%8C%EB%AA%A8%ED%85%94/data=!4m8!3m7!1s0x356597ff2b3b8f7d:0x1608d9f16cfa2997!5m2!4m1!1i2!8m2!3d36.1187625!4d128.1501492?authuser=0&hl=ko&rclk=1', 'https://www.google.com/maps/place/%EB%A1%9C%EC%A0%9C%EB%8B%88%EC%95%84%ED%98%B8%ED%85%94/data=!4m8!3m7!1s0x3565bd7ba782b28b:0x5d0b3f7526453e18!5m2!4m1!1i2!8m2!3d36.1175931!4d128.1819973?authuser=0&hl=ko&rclk=1', 'https://www.google.com/maps/place/%EA%B9%80%EC%B2%9C+%ED%98%B8%ED%85%94+%EC%9D%B4%EC%83%81/data=!4m8!3m7!1s0x3565bd0b05c6b64d:0x37ae88bd54e0c5f5!5m2!4m1!1i2!8m2!3d36.1156099!4d128.1841475?authuser=0&hl=ko&rclk=1', 'https://www.google.com/maps/place/%EC%B9%B8%ED%94%8C%EB%9F%AC%EC%8A%A4+%EB%AA%A8%ED%85%94/data=!4m8!3m7!1s0x356597f8d11d3a8b:0xff3d21d224d35d8c!5m2!4m1!1i2!8m2!3d36.1183662!4d128.1499174?authuser=0&hl=ko&rclk=1', 'https://www.google.com/maps/place/Gimcheon+EX/data=!4m8!3m7!1s0x3565980d7a1cbe11:0x12e9ea826046e460!5m2!4m1!1i2!8m2!3d36.122546!4d128.128887?authuser=0&hl=ko&rclk=1', 'https://www.google.com/maps/place/Gimcheon+Zero+Self+Check-in+Motel/data=!4m8!3m7!1s0x35659ee29f2ccbb7:0x5394332723f81543!5m2!4m1!1i2!8m2!3d36.129605!4d128.032862?authuser=0&hl=ko&rclk=1', 'https://www.google.com/maps/place/Gimcheon+Hisense/data=!4m8!3m7!1s0x3565989d2406b45d:0xac081b71fb30899a!5m2!4m1!1i2!8m2!3d36.142367!4d128.093901?authuser=0&hl=ko&rclk=1', 'https://www.google.com/maps/place/%ED%98%B8%ED%85%94%EA%B8%88%EC%98%A4%EC%82%B0/data=!4m8!3m7!1s0x3565c0a9a539171f:0x37e531a5773d1c01!5m2!4m1!1i2!8m2!3d36.1102125!4d128.3097059?authuser=0&hl=ko&rclk=1', 'https://www.google.com/maps/place/%EA%B7%B9%EB%8F%99%EC%9E%A5%EC%97%AC%EA%B4%80/data=!4m8!3m7!1s0x3565988af88f8625:0x3c8564c0de8a1245!5m2!4m1!1i2!8m2!3d36.1245731!4d128.103253?authuser=0&hl=ko&rclk=1', 'https://www.google.com/maps/place/%EA%B0%80%EB%B9%88%EB%AA%A8%ED%85%94/data=!4m8!3m7!1s0x3565980dbd57b165:0x793fbbce720b9ab!5m2!4m1!1i2!8m2!3d36.12282!4d128.12991?authuser=0&hl=ko&rclk=1', 'https://www.google.com/maps/place/%EC%95%84%EB%A6%AC%EC%95%84%EC%9E%A5%EC%97%AC%EA%B4%80/data=!4m8!3m7!1s0x356598127e3f4a91:0xbaf7fba7061eb777!5m2!4m1!1i2!8m2!3d36.1208974!4d128.1295351?authuser=0&hl=ko&rclk=1', 'https://www.google.com/maps/place/%EB%B2%A0%EB%84%A4%EC%B9%98%EC%95%84/data=!4m8!3m7!1s0x3565980d9a72ff85:0x77fb3920edcb14f0!5m2!4m1!1i2!8m2!3d36.1224517!4d128.1298821?authuser=0&hl=ko&rclk=1', 'https://www.google.com/maps/place/%EB%B0%80%EB%9D%BC%EB%85%B8%EB%AA%A8%ED%85%94/data=!4m8!3m7!1s0x3565980da9311563:0x7f6a9d91d0a788b8!5m2!4m1!1i2!8m2!3d36.1196051!4d128.1279324?authuser=0&hl=ko&rclk=1', 'https://www.google.com/maps/place/%EC%9E%90%EC%9D%B4%EB%AA%A8%ED%85%94/data=!4m8!3m7!1s0x35659812875c9303:0xdabf04e9183aa138!5m2!4m1!1i2!8m2!3d36.1215385!4d128.1291996?authuser=0&hl=ko&rclk=1', 'https://www.google.com/maps/place/Gimcheon+YS+Self+Check-in+Motel/data=!4m8!3m7!1s0x3565be3f5c10b9bd:0xb003cff620ad1055!5m2!4m1!1i2!8m2!3d36.101403!4d128.257532?authuser=0&hl=ko&rclk=1', 'https://www.google.com/maps/place/%EB%AA%A8%ED%85%94%EC%9C%88/data=!4m8!3m7!1s0x35659812e948d8b1:0x9ba2a116c7af985a!5m2!4m1!1i2!8m2!3d36.1207447!4d128.1282118?authuser=0&hl=ko&rclk=1', 'https://www.google.com/maps/place/%EB%AF%B8%EB%9D%BC%ED%81%B4%EB%AA%A8%ED%85%94/data=!4m8!3m7!1s0x3565980dbcb9f4d5:0x18da85c54f2255b8!5m2!4m1!1i2!8m2!3d36.1230105!4d128.1299408?authuser=0&hl=ko&rclk=1', 'https://www.google.com/maps/place/%EB%AA%BD%ED%94%8C%EB%9F%AC%EC%8A%A4%EB%AA%A8%ED%85%94/data=!4m8!3m7!1s0x35659813a8c3148f:0x5ca06a833db1bb4a!5m2!4m1!1i2!8m2!3d36.1189713!4d128.1294965?authuser=0&hl=ko&rclk=1', 'https://www.google.com/maps/place/%EC%88%98%EB%AA%A8%ED%85%94/data=!4m8!3m7!1s0x3565988a6350187b:0x20fc16f2a388daf8!5m2!4m1!1i2!8m2!3d36.1242951!4d128.1047524?authuser=0&hl=ko&rclk=1', 'https://www.google.com/maps/place/Gimcheon+Zai/data=!4m8!3m7!1s0x35659812875a6393:0x51d38f402460f4e9!5m2!4m1!1i2!8m2!3d36.121556!4d128.129204?authuser=0&hl=ko&rclk=1', 'https://www.google.com/maps/place/%EC%BB%A4%ED%94%8C%EB%AA%A8%ED%85%94/data=!4m8!3m7!1s0x356597ff2b3b8f7d:0x1608d9f16cfa2997!5m2!4m1!1i2!8m2!3d36.1187625!4d128.1501492?authuser=0&hl=ko&rclk=1', 'https://www.google.com/maps/place/%EB%A1%9C%EC%A0%9C%EB%8B%88%EC%95%84%ED%98%B8%ED%85%94/data=!4m8!3m7!1s0x3565bd7ba782b28b:0x5d0b3f7526453e18!5m2!4m1!1i2!8m2!3d36.1175931!4d128.1819973?authuser=0&hl=ko&rclk=1', 'https://www.google.com/maps/place/%EA%B9%80%EC%B2%9C+%ED%98%B8%ED%85%94+%EC%9D%B4%EC%83%81/data=!4m8!3m7!1s0x3565bd0b05c6b64d:0x37ae88bd54e0c5f5!5m2!4m1!1i2!8m2!3d36.1156099!4d128.1841475?authuser=0&hl=ko&rclk=1', 'https://www.google.com/maps/place/%EC%B9%B8%ED%94%8C%EB%9F%AC%EC%8A%A4+%EB%AA%A8%ED%85%94/data=!4m8!3m7!1s0x356597f8d11d3a8b:0xff3d21d224d35d8c!5m2!4m1!1i2!8m2!3d36.1183662!4d128.1499174?authuser=0&hl=ko&rclk=1', 'https://www.google.com/maps/place/Gimcheon+EX/data=!4m8!3m7!1s0x3565980d7a1cbe11:0x12e9ea826046e460!5m2!4m1!1i2!8m2!3d36.122546!4d128.128887?authuser=0&hl=ko&rclk=1', 'https://www.google.com/maps/place/Gimcheon+Zero+Self+Check-in+Motel/data=!4m8!3m7!1s0x35659ee29f2ccbb7:0x5394332723f81543!5m2!4m1!1i2!8m2!3d36.129605!4d128.032862?authuser=0&hl=ko&rclk=1', 'https://www.google.com/maps/place/Gimcheon+Hisense/data=!4m8!3m7!1s0x3565989d2406b45d:0xac081b71fb30899a!5m2!4m1!1i2!8m2!3d36.142367!4d128.093901?authuser=0&hl=ko&rclk=1', 'https://www.google.com/maps/place/%ED%98%B8%ED%85%94%EA%B8%88%EC%98%A4%EC%82%B0/data=!4m8!3m7!1s0x3565c0a9a539171f:0x37e531a5773d1c01!5m2!4m1!1i2!8m2!3d36.1102125!4d128.3097059?authuser=0&hl=ko&rclk=1', 'https://www.google.com/maps/place/%EA%B7%B9%EB%8F%99%EC%9E%A5%EC%97%AC%EA%B4%80/data=!4m8!3m7!1s0x3565988af88f8625:0x3c8564c0de8a1245!5m2!4m1!1i2!8m2!3d36.1245731!4d128.103253?authuser=0&hl=ko&rclk=1', 'https://www.google.com/maps/place/%EA%B0%80%EB%B9%88%EB%AA%A8%ED%85%94/data=!4m8!3m7!1s0x3565980dbd57b165:0x793fbbce720b9ab!5m2!4m1!1i2!8m2!3d36.12282!4d128.12991?authuser=0&hl=ko&rclk=1', 'https://www.google.com/maps/place/%EC%95%84%EB%A6%AC%EC%95%84%EC%9E%A5%EC%97%AC%EA%B4%80/data=!4m8!3m7!1s0x356598127e3f4a91:0xbaf7fba7061eb777!5m2!4m1!1i2!8m2!3d36.1208974!4d128.1295351?authuser=0&hl=ko&rclk=1', 'https://www.google.com/maps/place/%EB%B2%A0%EB%84%A4%EC%B9%98%EC%95%84/data=!4m8!3m7!1s0x3565980d9a72ff85:0x77fb3920edcb14f0!5m2!4m1!1i2!8m2!3d36.1224517!4d128.1298821?authuser=0&hl=ko&rclk=1', 'https://www.google.com/maps/place/%EB%B0%80%EB%9D%BC%EB%85%B8%EB%AA%A8%ED%85%94/data=!4m8!3m7!1s0x3565980da9311563:0x7f6a9d91d0a788b8!5m2!4m1!1i2!8m2!3d36.1196051!4d128.1279324?authuser=0&hl=ko&rclk=1', 'https://www.google.com/maps/place/%EC%9E%90%EC%9D%B4%EB%AA%A8%ED%85%94/data=!4m8!3m7!1s0x35659812875c9303:0xdabf04e9183aa138!5m2!4m1!1i2!8m2!3d36.1215385!4d128.1291996?authuser=0&hl=ko&rclk=1', 'https://www.google.com/maps/place/Gimcheon+YS+Self+Check-in+Motel/data=!4m8!3m7!1s0x3565be3f5c10b9bd:0xb003cff620ad1055!5m2!4m1!1i2!8m2!3d36.101403!4d128.257532?authuser=0&hl=ko&rclk=1', 'https://www.google.com/maps/place/%EB%AA%A8%ED%85%94%EC%9C%88/data=!4m8!3m7!1s0x35659812e948d8b1:0x9ba2a116c7af985a!5m2!4m1!1i2!8m2!3d36.1207447!4d128.1282118?authuser=0&hl=ko&rclk=1', 'https://www.google.com/maps/place/%EB%AF%B8%EB%9D%BC%ED%81%B4%EB%AA%A8%ED%85%94/data=!4m8!3m7!1s0x3565980dbcb9f4d5:0x18da85c54f2255b8!5m2!4m1!1i2!8m2!3d36.1230105!4d128.1299408?authuser=0&hl=ko&rclk=1', 'https://www.google.com/maps/place/%EB%AA%BD%ED%94%8C%EB%9F%AC%EC%8A%A4%EB%AA%A8%ED%85%94/data=!4m8!3m7!1s0x35659813a8c3148f:0x5ca06a833db1bb4a!5m2!4m1!1i2!8m2!3d36.1189713!4d128.1294965?authuser=0&hl=ko&rclk=1', 'https://www.google.com/maps/place/%EC%88%98%EB%AA%A8%ED%85%94/data=!4m8!3m7!1s0x3565988a6350187b:0x20fc16f2a388daf8!5m2!4m1!1i2!8m2!3d36.1242951!4d128.1047524?authuser=0&hl=ko&rclk=1', 'https://www.google.com/maps/place/Gimcheon+Zai/data=!4m8!3m7!1s0x35659812875a6393:0x51d38f402460f4e9!5m2!4m1!1i2!8m2!3d36.121556!4d128.129204?authuser=0&hl=ko&rclk=1', 'https://www.google.com/maps/place/%EC%BB%A4%ED%94%8C%EB%AA%A8%ED%85%94/data=!4m8!3m7!1s0x356597ff2b3b8f7d:0x1608d9f16cfa2997!5m2!4m1!1i2!8m2!3d36.1187625!4d128.1501492?authuser=0&hl=ko&rclk=1', 'https://www.google.com/maps/place/%EB%A1%9C%EC%A0%9C%EB%8B%88%EC%95%84%ED%98%B8%ED%85%94/data=!4m8!3m7!1s0x3565bd7ba782b28b:0x5d0b3f7526453e18!5m2!4m1!1i2!8m2!3d36.1175931!4d128.1819973?authuser=0&hl=ko&rclk=1', 'https://www.google.com/maps/place/%EA%B9%80%EC%B2%9C+%ED%98%B8%ED%85%94+%EC%9D%B4%EC%83%81/data=!4m8!3m7!1s0x3565bd0b05c6b64d:0x37ae88bd54e0c5f5!5m2!4m1!1i2!8m2!3d36.1156099!4d128.1841475?authuser=0&hl=ko&rclk=1', 'https://www.google.com/maps/place/%EC%B9%B8%ED%94%8C%EB%9F%AC%EC%8A%A4+%EB%AA%A8%ED%85%94/data=!4m8!3m7!1s0x356597f8d11d3a8b:0xff3d21d224d35d8c!5m2!4m1!1i2!8m2!3d36.1183662!4d128.1499174?authuser=0&hl=ko&rclk=1', 'https://www.google.com/maps/place/Gimcheon+EX/data=!4m8!3m7!1s0x3565980d7a1cbe11:0x12e9ea826046e460!5m2!4m1!1i2!8m2!3d36.122546!4d128.128887?authuser=0&hl=ko&rclk=1', 'https://www.google.com/maps/place/Gimcheon+Zero+Self+Check-in+Motel/data=!4m8!3m7!1s0x35659ee29f2ccbb7:0x5394332723f81543!5m2!4m1!1i2!8m2!3d36.129605!4d128.032862?authuser=0&hl=ko&rclk=1', 'https://www.google.com/maps/place/Gimcheon+Hisense/data=!4m8!3m7!1s0x3565989d2406b45d:0xac081b71fb30899a!5m2!4m1!1i2!8m2!3d36.142367!4d128.093901?authuser=0&hl=ko&rclk=1', 'https://www.google.com/maps/place/%ED%98%B8%ED%85%94%EA%B8%88%EC%98%A4%EC%82%B0/data=!4m8!3m7!1s0x3565c0a9a539171f:0x37e531a5773d1c01!5m2!4m1!1i2!8m2!3d36.1102125!4d128.3097059?authuser=0&hl=ko&rclk=1', 'https://www.google.com/maps/place/%EA%B7%B9%EB%8F%99%EC%9E%A5%EC%97%AC%EA%B4%80/data=!4m8!3m7!1s0x3565988af88f8625:0x3c8564c0de8a1245!5m2!4m1!1i2!8m2!3d36.1245731!4d128.103253?authuser=0&hl=ko&rclk=1', 'https://www.google.com/maps/place/%EA%B0%80%EB%B9%88%EB%AA%A8%ED%85%94/data=!4m8!3m7!1s0x3565980dbd57b165:0x793fbbce720b9ab!5m2!4m1!1i2!8m2!3d36.12282!4d128.12991?authuser=0&hl=ko&rclk=1', 'https://www.google.com/maps/place/%EC%95%84%EB%A6%AC%EC%95%84%EC%9E%A5%EC%97%AC%EA%B4%80/data=!4m8!3m7!1s0x356598127e3f4a91:0xbaf7fba7061eb777!5m2!4m1!1i2!8m2!3d36.1208974!4d128.1295351?authuser=0&hl=ko&rclk=1', 'https://www.google.com/maps/place/%EB%B2%A0%EB%84%A4%EC%B9%98%EC%95%84/data=!4m8!3m7!1s0x3565980d9a72ff85:0x77fb3920edcb14f0!5m2!4m1!1i2!8m2!3d36.1224517!4d128.1298821?authuser=0&hl=ko&rclk=1', 'https://www.google.com/maps/place/%EB%B0%80%EB%9D%BC%EB%85%B8%EB%AA%A8%ED%85%94/data=!4m8!3m7!1s0x3565980da9311563:0x7f6a9d91d0a788b8!5m2!4m1!1i2!8m2!3d36.1196051!4d128.1279324?authuser=0&hl=ko&rclk=1', 'https://www.google.com/maps/place/%EC%9E%90%EC%9D%B4%EB%AA%A8%ED%85%94/data=!4m8!3m7!1s0x35659812875c9303:0xdabf04e9183aa138!5m2!4m1!1i2!8m2!3d36.1215385!4d128.1291996?authuser=0&hl=ko&rclk=1', 'https://www.google.com/maps/place/Gimcheon+YS+Self+Check-in+Motel/data=!4m8!3m7!1s0x3565be3f5c10b9bd:0xb003cff620ad1055!5m2!4m1!1i2!8m2!3d36.101403!4d128.257532?authuser=0&hl=ko&rclk=1', 'https://www.google.com/maps/place/%EB%AA%A8%ED%85%94%EC%9C%88/data=!4m8!3m7!1s0x35659812e948d8b1:0x9ba2a116c7af985a!5m2!4m1!1i2!8m2!3d36.1207447!4d128.1282118?authuser=0&hl=ko&rclk=1', 'https://www.google.com/maps/place/%EB%AF%B8%EB%9D%BC%ED%81%B4%EB%AA%A8%ED%85%94/data=!4m8!3m7!1s0x3565980dbcb9f4d5:0x18da85c54f2255b8!5m2!4m1!1i2!8m2!3d36.1230105!4d128.1299408?authuser=0&hl=ko&rclk=1', 'https://www.google.com/maps/place/%EB%AA%BD%ED%94%8C%EB%9F%AC%EC%8A%A4%EB%AA%A8%ED%85%94/data=!4m8!3m7!1s0x35659813a8c3148f:0x5ca06a833db1bb4a!5m2!4m1!1i2!8m2!3d36.1189713!4d128.1294965?authuser=0&hl=ko&rclk=1', 'https://www.google.com/maps/place/%EC%88%98%EB%AA%A8%ED%85%94/data=!4m8!3m7!1s0x3565988a6350187b:0x20fc16f2a388daf8!5m2!4m1!1i2!8m2!3d36.1242951!4d128.1047524?authuser=0&hl=ko&rclk=1', 'https://www.google.com/maps/place/Gimcheon+Zai/data=!4m8!3m7!1s0x35659812875a6393:0x51d38f402460f4e9!5m2!4m1!1i2!8m2!3d36.121556!4d128.129204?authuser=0&hl=ko&rclk=1', 'https://www.google.com/maps/place/%EC%BB%A4%ED%94%8C%EB%AA%A8%ED%85%94/data=!4m8!3m7!1s0x356597ff2b3b8f7d:0x1608d9f16cfa2997!5m2!4m1!1i2!8m2!3d36.1187625!4d128.1501492?authuser=0&hl=ko&rclk=1', 'https://www.google.com/maps/place/%EB%A1%9C%EC%A0%9C%EB%8B%88%EC%95%84%ED%98%B8%ED%85%94/data=!4m8!3m7!1s0x3565bd7ba782b28b:0x5d0b3f7526453e18!5m2!4m1!1i2!8m2!3d36.1175931!4d128.1819973?authuser=0&hl=ko&rclk=1', 'https://www.google.com/maps/place/%EA%B9%80%EC%B2%9C+%ED%98%B8%ED%85%94+%EC%9D%B4%EC%83%81/data=!4m8!3m7!1s0x3565bd0b05c6b64d:0x37ae88bd54e0c5f5!5m2!4m1!1i2!8m2!3d36.1156099!4d128.1841475?authuser=0&hl=ko&rclk=1', 'https://www.google.com/maps/place/%EC%B9%B8%ED%94%8C%EB%9F%AC%EC%8A%A4+%EB%AA%A8%ED%85%94/data=!4m8!3m7!1s0x356597f8d11d3a8b:0xff3d21d224d35d8c!5m2!4m1!1i2!8m2!3d36.1183662!4d128.1499174?authuser=0&hl=ko&rclk=1', 'https://www.google.com/maps/place/Gimcheon+EX/data=!4m8!3m7!1s0x3565980d7a1cbe11:0x12e9ea826046e460!5m2!4m1!1i2!8m2!3d36.122546!4d128.128887?authuser=0&hl=ko&rclk=1', 'https://www.google.com/maps/place/Gimcheon+Zero+Self+Check-in+Motel/data=!4m8!3m7!1s0x35659ee29f2ccbb7:0x5394332723f81543!5m2!4m1!1i2!8m2!3d36.129605!4d128.032862?authuser=0&hl=ko&rclk=1', 'https://www.google.com/maps/place/Gimcheon+Hisense/data=!4m8!3m7!1s0x3565989d2406b45d:0xac081b71fb30899a!5m2!4m1!1i2!8m2!3d36.142367!4d128.093901?authuser=0&hl=ko&rclk=1', 'https://www.google.com/maps/place/%ED%98%B8%ED%85%94%EA%B8%88%EC%98%A4%EC%82%B0/data=!4m8!3m7!1s0x3565c0a9a539171f:0x37e531a5773d1c01!5m2!4m1!1i2!8m2!3d36.1102125!4d128.3097059?authuser=0&hl=ko&rclk=1', 'https://www.google.com/maps/place/%EA%B7%B9%EB%8F%99%EC%9E%A5%EC%97%AC%EA%B4%80/data=!4m8!3m7!1s0x3565988af88f8625:0x3c8564c0de8a1245!5m2!4m1!1i2!8m2!3d36.1245731!4d128.103253?authuser=0&hl=ko&rclk=1', 'https://www.google.com/maps/place/%EA%B0%80%EB%B9%88%EB%AA%A8%ED%85%94/data=!4m8!3m7!1s0x3565980dbd57b165:0x793fbbce720b9ab!5m2!4m1!1i2!8m2!3d36.12282!4d128.12991?authuser=0&hl=ko&rclk=1', 'https://www.google.com/maps/place/%EC%95%84%EB%A6%AC%EC%95%84%EC%9E%A5%EC%97%AC%EA%B4%80/data=!4m8!3m7!1s0x356598127e3f4a91:0xbaf7fba7061eb777!5m2!4m1!1i2!8m2!3d36.1208974!4d128.1295351?authuser=0&hl=ko&rclk=1', 'https://www.google.com/maps/place/%EB%B2%A0%EB%84%A4%EC%B9%98%EC%95%84/data=!4m8!3m7!1s0x3565980d9a72ff85:0x77fb3920edcb14f0!5m2!4m1!1i2!8m2!3d36.1224517!4d128.1298821?authuser=0&hl=ko&rclk=1', 'https://www.google.com/maps/place/%EB%B0%80%EB%9D%BC%EB%85%B8%EB%AA%A8%ED%85%94/data=!4m8!3m7!1s0x3565980da9311563:0x7f6a9d91d0a788b8!5m2!4m1!1i2!8m2!3d36.1196051!4d128.1279324?authuser=0&hl=ko&rclk=1', 'https://www.google.com/maps/place/%EC%9E%90%EC%9D%B4%EB%AA%A8%ED%85%94/data=!4m8!3m7!1s0x35659812875c9303:0xdabf04e9183aa138!5m2!4m1!1i2!8m2!3d36.1215385!4d128.1291996?authuser=0&hl=ko&rclk=1', 'https://www.google.com/maps/place/Gimcheon+YS+Self+Check-in+Motel/data=!4m8!3m7!1s0x3565be3f5c10b9bd:0xb003cff620ad1055!5m2!4m1!1i2!8m2!3d36.101403!4d128.257532?authuser=0&hl=ko&rclk=1', 'https://www.google.com/maps/place/%EB%AA%A8%ED%85%94%EC%9C%88/data=!4m8!3m7!1s0x35659812e948d8b1:0x9ba2a116c7af985a!5m2!4m1!1i2!8m2!3d36.1207447!4d128.1282118?authuser=0&hl=ko&rclk=1', 'https://www.google.com/maps/place/%EB%AF%B8%EB%9D%BC%ED%81%B4%EB%AA%A8%ED%85%94/data=!4m8!3m7!1s0x3565980dbcb9f4d5:0x18da85c54f2255b8!5m2!4m1!1i2!8m2!3d36.1230105!4d128.1299408?authuser=0&hl=ko&rclk=1', 'https://www.google.com/maps/place/%EB%AA%BD%ED%94%8C%EB%9F%AC%EC%8A%A4%EB%AA%A8%ED%85%94/data=!4m8!3m7!1s0x35659813a8c3148f:0x5ca06a833db1bb4a!5m2!4m1!1i2!8m2!3d36.1189713!4d128.1294965?authuser=0&hl=ko&rclk=1', 'https://www.google.com/maps/place/%EC%88%98%EB%AA%A8%ED%85%94/data=!4m8!3m7!1s0x3565988a6350187b:0x20fc16f2a388daf8!5m2!4m1!1i2!8m2!3d36.1242951!4d128.1047524?authuser=0&hl=ko&rclk=1', 'https://www.google.com/maps/place/Gimcheon+Zai/data=!4m8!3m7!1s0x35659812875a6393:0x51d38f402460f4e9!5m2!4m1!1i2!8m2!3d36.121556!4d128.129204?authuser=0&hl=ko&rclk=1', 'https://www.google.com/maps/place/%EC%BB%A4%ED%94%8C%EB%AA%A8%ED%85%94/data=!4m8!3m7!1s0x356597ff2b3b8f7d:0x1608d9f16cfa2997!5m2!4m1!1i2!8m2!3d36.1187625!4d128.1501492?authuser=0&hl=ko&rclk=1', 'https://www.google.com/maps/place/%EB%A1%9C%EC%A0%9C%EB%8B%88%EC%95%84%ED%98%B8%ED%85%94/data=!4m8!3m7!1s0x3565bd7ba782b28b:0x5d0b3f7526453e18!5m2!4m1!1i2!8m2!3d36.1175931!4d128.1819973?authuser=0&hl=ko&rclk=1', 'https://www.google.com/maps/place/%EA%B9%80%EC%B2%9C+%ED%98%B8%ED%85%94+%EC%9D%B4%EC%83%81/data=!4m8!3m7!1s0x3565bd0b05c6b64d:0x37ae88bd54e0c5f5!5m2!4m1!1i2!8m2!3d36.1156099!4d128.1841475?authuser=0&hl=ko&rclk=1', 'https://www.google.com/maps/place/%EC%B9%B8%ED%94%8C%EB%9F%AC%EC%8A%A4+%EB%AA%A8%ED%85%94/data=!4m8!3m7!1s0x356597f8d11d3a8b:0xff3d21d224d35d8c!5m2!4m1!1i2!8m2!3d36.1183662!4d128.1499174?authuser=0&hl=ko&rclk=1', 'https://www.google.com/maps/place/Gimcheon+EX/data=!4m8!3m7!1s0x3565980d7a1cbe11:0x12e9ea826046e460!5m2!4m1!1i2!8m2!3d36.122546!4d128.128887?authuser=0&hl=ko&rclk=1', 'https://www.google.com/maps/place/Gimcheon+Zero+Self+Check-in+Motel/data=!4m8!3m7!1s0x35659ee29f2ccbb7:0x5394332723f81543!5m2!4m1!1i2!8m2!3d36.129605!4d128.032862?authuser=0&hl=ko&rclk=1', 'https://www.google.com/maps/place/Gimcheon+Hisense/data=!4m8!3m7!1s0x3565989d2406b45d:0xac081b71fb30899a!5m2!4m1!1i2!8m2!3d36.142367!4d128.093901?authuser=0&hl=ko&rclk=1', 'https://www.google.com/maps/place/%ED%98%B8%ED%85%94%EA%B8%88%EC%98%A4%EC%82%B0/data=!4m8!3m7!1s0x3565c0a9a539171f:0x37e531a5773d1c01!5m2!4m1!1i2!8m2!3d36.1102125!4d128.3097059?authuser=0&hl=ko&rclk=1', 'https://www.google.com/maps/place/%EA%B7%B9%EB%8F%99%EC%9E%A5%EC%97%AC%EA%B4%80/data=!4m8!3m7!1s0x3565988af88f8625:0x3c8564c0de8a1245!5m2!4m1!1i2!8m2!3d36.1245731!4d128.103253?authuser=0&hl=ko&rclk=1', 'https://www.google.com/maps/place/%EA%B0%80%EB%B9%88%EB%AA%A8%ED%85%94/data=!4m8!3m7!1s0x3565980dbd57b165:0x793fbbce720b9ab!5m2!4m1!1i2!8m2!3d36.12282!4d128.12991?authuser=0&hl=ko&rclk=1', 'https://www.google.com/maps/place/%EC%95%84%EB%A6%AC%EC%95%84%EC%9E%A5%EC%97%AC%EA%B4%80/data=!4m8!3m7!1s0x356598127e3f4a91:0xbaf7fba7061eb777!5m2!4m1!1i2!8m2!3d36.1208974!4d128.1295351?authuser=0&hl=ko&rclk=1', 'https://www.google.com/maps/place/%EB%B2%A0%EB%84%A4%EC%B9%98%EC%95%84/data=!4m8!3m7!1s0x3565980d9a72ff85:0x77fb3920edcb14f0!5m2!4m1!1i2!8m2!3d36.1224517!4d128.1298821?authuser=0&hl=ko&rclk=1', 'https://www.google.com/maps/place/%EB%B0%80%EB%9D%BC%EB%85%B8%EB%AA%A8%ED%85%94/data=!4m8!3m7!1s0x3565980da9311563:0x7f6a9d91d0a788b8!5m2!4m1!1i2!8m2!3d36.1196051!4d128.1279324?authuser=0&hl=ko&rclk=1', 'https://www.google.com/maps/place/%EC%9E%90%EC%9D%B4%EB%AA%A8%ED%85%94/data=!4m8!3m7!1s0x35659812875c9303:0xdabf04e9183aa138!5m2!4m1!1i2!8m2!3d36.1215385!4d128.1291996?authuser=0&hl=ko&rclk=1', 'https://www.google.com/maps/place/Gimcheon+YS+Self+Check-in+Motel/data=!4m8!3m7!1s0x3565be3f5c10b9bd:0xb003cff620ad1055!5m2!4m1!1i2!8m2!3d36.101403!4d128.257532?authuser=0&hl=ko&rclk=1', 'https://www.google.com/maps/place/%EB%AA%A8%ED%85%94%EC%9C%88/data=!4m8!3m7!1s0x35659812e948d8b1:0x9ba2a116c7af985a!5m2!4m1!1i2!8m2!3d36.1207447!4d128.1282118?authuser=0&hl=ko&rclk=1', 'https://www.google.com/maps/place/%EB%AF%B8%EB%9D%BC%ED%81%B4%EB%AA%A8%ED%85%94/data=!4m8!3m7!1s0x3565980dbcb9f4d5:0x18da85c54f2255b8!5m2!4m1!1i2!8m2!3d36.1230105!4d128.1299408?authuser=0&hl=ko&rclk=1', 'https://www.google.com/maps/place/%EB%AA%BD%ED%94%8C%EB%9F%AC%EC%8A%A4%EB%AA%A8%ED%85%94/data=!4m8!3m7!1s0x35659813a8c3148f:0x5ca06a833db1bb4a!5m2!4m1!1i2!8m2!3d36.1189713!4d128.1294965?authuser=0&hl=ko&rclk=1', 'https://www.google.com/maps/place/%EC%88%98%EB%AA%A8%ED%85%94/data=!4m8!3m7!1s0x3565988a6350187b:0x20fc16f2a388daf8!5m2!4m1!1i2!8m2!3d36.1242951!4d128.1047524?authuser=0&hl=ko&rclk=1', 'https://www.google.com/maps/place/Gimcheon+Zai/data=!4m8!3m7!1s0x35659812875a6393:0x51d38f402460f4e9!5m2!4m1!1i2!8m2!3d36.121556!4d128.129204?authuser=0&hl=ko&rclk=1', 'https://www.google.com/maps/place/%EC%BB%A4%ED%94%8C%EB%AA%A8%ED%85%94/data=!4m8!3m7!1s0x356597ff2b3b8f7d:0x1608d9f16cfa2997!5m2!4m1!1i2!8m2!3d36.1187625!4d128.1501492?authuser=0&hl=ko&rclk=1', 'https://www.google.com/maps/place/%EB%A1%9C%EC%A0%9C%EB%8B%88%EC%95%84%ED%98%B8%ED%85%94/data=!4m8!3m7!1s0x3565bd7ba782b28b:0x5d0b3f7526453e18!5m2!4m1!1i2!8m2!3d36.1175931!4d128.1819973?authuser=0&hl=ko&rclk=1', 'https://www.google.com/maps/place/%EA%B9%80%EC%B2%9C+%ED%98%B8%ED%85%94+%EC%9D%B4%EC%83%81/data=!4m8!3m7!1s0x3565bd0b05c6b64d:0x37ae88bd54e0c5f5!5m2!4m1!1i2!8m2!3d36.1156099!4d128.1841475?authuser=0&hl=ko&rclk=1', 'https://www.google.com/maps/place/%EC%B9%B8%ED%94%8C%EB%9F%AC%EC%8A%A4+%EB%AA%A8%ED%85%94/data=!4m8!3m7!1s0x356597f8d11d3a8b:0xff3d21d224d35d8c!5m2!4m1!1i2!8m2!3d36.1183662!4d128.1499174?authuser=0&hl=ko&rclk=1', 'https://www.google.com/maps/place/Gimcheon+EX/data=!4m8!3m7!1s0x3565980d7a1cbe11:0x12e9ea826046e460!5m2!4m1!1i2!8m2!3d36.122546!4d128.128887?authuser=0&hl=ko&rclk=1', 'https://www.google.com/maps/place/Gimcheon+Zero+Self+Check-in+Motel/data=!4m8!3m7!1s0x35659ee29f2ccbb7:0x5394332723f81543!5m2!4m1!1i2!8m2!3d36.129605!4d128.032862?authuser=0&hl=ko&rclk=1', 'https://www.google.com/maps/place/Gimcheon+Hisense/data=!4m8!3m7!1s0x3565989d2406b45d:0xac081b71fb30899a!5m2!4m1!1i2!8m2!3d36.142367!4d128.093901?authuser=0&hl=ko&rclk=1', 'https://www.google.com/maps/place/%ED%98%B8%ED%85%94%EA%B8%88%EC%98%A4%EC%82%B0/data=!4m8!3m7!1s0x3565c0a9a539171f:0x37e531a5773d1c01!5m2!4m1!1i2!8m2!3d36.1102125!4d128.3097059?authuser=0&hl=ko&rclk=1', 'https://www.google.com/maps/place/%EA%B7%B9%EB%8F%99%EC%9E%A5%EC%97%AC%EA%B4%80/data=!4m8!3m7!1s0x3565988af88f8625:0x3c8564c0de8a1245!5m2!4m1!1i2!8m2!3d36.1245731!4d128.103253?authuser=0&hl=ko&rclk=1', 'https://www.google.com/maps/place/%EA%B0%80%EB%B9%88%EB%AA%A8%ED%85%94/data=!4m8!3m7!1s0x3565980dbd57b165:0x793fbbce720b9ab!5m2!4m1!1i2!8m2!3d36.12282!4d128.12991?authuser=0&hl=ko&rclk=1', 'https://www.google.com/maps/place/%EC%95%84%EB%A6%AC%EC%95%84%EC%9E%A5%EC%97%AC%EA%B4%80/data=!4m8!3m7!1s0x356598127e3f4a91:0xbaf7fba7061eb777!5m2!4m1!1i2!8m2!3d36.1208974!4d128.1295351?authuser=0&hl=ko&rclk=1', 'https://www.google.com/maps/place/%EB%B2%A0%EB%84%A4%EC%B9%98%EC%95%84/data=!4m8!3m7!1s0x3565980d9a72ff85:0x77fb3920edcb14f0!5m2!4m1!1i2!8m2!3d36.1224517!4d128.1298821?authuser=0&hl=ko&rclk=1', 'https://www.google.com/maps/place/%EB%B0%80%EB%9D%BC%EB%85%B8%EB%AA%A8%ED%85%94/data=!4m8!3m7!1s0x3565980da9311563:0x7f6a9d91d0a788b8!5m2!4m1!1i2!8m2!3d36.1196051!4d128.1279324?authuser=0&hl=ko&rclk=1', 'https://www.google.com/maps/place/%EC%9E%90%EC%9D%B4%EB%AA%A8%ED%85%94/data=!4m8!3m7!1s0x35659812875c9303:0xdabf04e9183aa138!5m2!4m1!1i2!8m2!3d36.1215385!4d128.1291996?authuser=0&hl=ko&rclk=1', 'https://www.google.com/maps/place/Gimcheon+YS+Self+Check-in+Motel/data=!4m8!3m7!1s0x3565be3f5c10b9bd:0xb003cff620ad1055!5m2!4m1!1i2!8m2!3d36.101403!4d128.257532?authuser=0&hl=ko&rclk=1', 'https://www.google.com/maps/place/%EB%AA%A8%ED%85%94%EC%9C%88/data=!4m8!3m7!1s0x35659812e948d8b1:0x9ba2a116c7af985a!5m2!4m1!1i2!8m2!3d36.1207447!4d128.1282118?authuser=0&hl=ko&rclk=1', 'https://www.google.com/maps/place/%EB%AF%B8%EB%9D%BC%ED%81%B4%EB%AA%A8%ED%85%94/data=!4m8!3m7!1s0x3565980dbcb9f4d5:0x18da85c54f2255b8!5m2!4m1!1i2!8m2!3d36.1230105!4d128.1299408?authuser=0&hl=ko&rclk=1', 'https://www.google.com/maps/place/%EB%AA%BD%ED%94%8C%EB%9F%AC%EC%8A%A4%EB%AA%A8%ED%85%94/data=!4m8!3m7!1s0x35659813a8c3148f:0x5ca06a833db1bb4a!5m2!4m1!1i2!8m2!3d36.1189713!4d128.1294965?authuser=0&hl=ko&rclk=1', 'https://www.google.com/maps/place/%EC%88%98%EB%AA%A8%ED%85%94/data=!4m8!3m7!1s0x3565988a6350187b:0x20fc16f2a388daf8!5m2!4m1!1i2!8m2!3d36.1242951!4d128.1047524?authuser=0&hl=ko&rclk=1', 'https://www.google.com/maps/place/Gimcheon+Zai/data=!4m8!3m7!1s0x35659812875a6393:0x51d38f402460f4e9!5m2!4m1!1i2!8m2!3d36.121556!4d128.129204?authuser=0&hl=ko&rclk=1', 'https://www.google.com/maps/place/%EC%BB%A4%ED%94%8C%EB%AA%A8%ED%85%94/data=!4m8!3m7!1s0x356597ff2b3b8f7d:0x1608d9f16cfa2997!5m2!4m1!1i2!8m2!3d36.1187625!4d128.1501492?authuser=0&hl=ko&rclk=1', 'https://www.google.com/maps/place/%EB%A1%9C%EC%A0%9C%EB%8B%88%EC%95%84%ED%98%B8%ED%85%94/data=!4m8!3m7!1s0x3565bd7ba782b28b:0x5d0b3f7526453e18!5m2!4m1!1i2!8m2!3d36.1175931!4d128.1819973?authuser=0&hl=ko&rclk=1', 'https://www.google.com/maps/place/%EA%B9%80%EC%B2%9C+%ED%98%B8%ED%85%94+%EC%9D%B4%EC%83%81/data=!4m8!3m7!1s0x3565bd0b05c6b64d:0x37ae88bd54e0c5f5!5m2!4m1!1i2!8m2!3d36.1156099!4d128.1841475?authuser=0&hl=ko&rclk=1', 'https://www.google.com/maps/place/%EC%B9%B8%ED%94%8C%EB%9F%AC%EC%8A%A4+%EB%AA%A8%ED%85%94/data=!4m8!3m7!1s0x356597f8d11d3a8b:0xff3d21d224d35d8c!5m2!4m1!1i2!8m2!3d36.1183662!4d128.1499174?authuser=0&hl=ko&rclk=1', 'https://www.google.com/maps/place/Gimcheon+EX/data=!4m8!3m7!1s0x3565980d7a1cbe11:0x12e9ea826046e460!5m2!4m1!1i2!8m2!3d36.122546!4d128.128887?authuser=0&hl=ko&rclk=1', 'https://www.google.com/maps/place/Gimcheon+Zero+Self+Check-in+Motel/data=!4m8!3m7!1s0x35659ee29f2ccbb7:0x5394332723f81543!5m2!4m1!1i2!8m2!3d36.129605!4d128.032862?authuser=0&hl=ko&rclk=1', 'https://www.google.com/maps/place/Gimcheon+Hisense/data=!4m8!3m7!1s0x3565989d2406b45d:0xac081b71fb30899a!5m2!4m1!1i2!8m2!3d36.142367!4d128.093901?authuser=0&hl=ko&rclk=1', 'https://www.google.com/maps/place/%ED%98%B8%ED%85%94%EA%B8%88%EC%98%A4%EC%82%B0/data=!4m8!3m7!1s0x3565c0a9a539171f:0x37e531a5773d1c01!5m2!4m1!1i2!8m2!3d36.1102125!4d128.3097059?authuser=0&hl=ko&rclk=1', 'https://www.google.com/maps/place/%EA%B7%B9%EB%8F%99%EC%9E%A5%EC%97%AC%EA%B4%80/data=!4m8!3m7!1s0x3565988af88f8625:0x3c8564c0de8a1245!5m2!4m1!1i2!8m2!3d36.1245731!4d128.103253?authuser=0&hl=ko&rclk=1', 'https://www.google.com/maps/place/%EA%B0%80%EB%B9%88%EB%AA%A8%ED%85%94/data=!4m8!3m7!1s0x3565980dbd57b165:0x793fbbce720b9ab!5m2!4m1!1i2!8m2!3d36.12282!4d128.12991?authuser=0&hl=ko&rclk=1', 'https://www.google.com/maps/place/%EC%95%84%EB%A6%AC%EC%95%84%EC%9E%A5%EC%97%AC%EA%B4%80/data=!4m8!3m7!1s0x356598127e3f4a91:0xbaf7fba7061eb777!5m2!4m1!1i2!8m2!3d36.1208974!4d128.1295351?authuser=0&hl=ko&rclk=1', 'https://www.google.com/maps/place/%EB%B2%A0%EB%84%A4%EC%B9%98%EC%95%84/data=!4m8!3m7!1s0x3565980d9a72ff85:0x77fb3920edcb14f0!5m2!4m1!1i2!8m2!3d36.1224517!4d128.1298821?authuser=0&hl=ko&rclk=1', 'https://www.google.com/maps/place/%EB%B0%80%EB%9D%BC%EB%85%B8%EB%AA%A8%ED%85%94/data=!4m8!3m7!1s0x3565980da9311563:0x7f6a9d91d0a788b8!5m2!4m1!1i2!8m2!3d36.1196051!4d128.1279324?authuser=0&hl=ko&rclk=1', 'https://www.google.com/maps/place/%EC%9E%90%EC%9D%B4%EB%AA%A8%ED%85%94/data=!4m8!3m7!1s0x35659812875c9303:0xdabf04e9183aa138!5m2!4m1!1i2!8m2!3d36.1215385!4d128.1291996?authuser=0&hl=ko&rclk=1', 'https://www.google.com/maps/place/Gimcheon+YS+Self+Check-in+Motel/data=!4m8!3m7!1s0x3565be3f5c10b9bd:0xb003cff620ad1055!5m2!4m1!1i2!8m2!3d36.101403!4d128.257532?authuser=0&hl=ko&rclk=1', 'https://www.google.com/maps/place/%EB%AA%A8%ED%85%94%EC%9C%88/data=!4m8!3m7!1s0x35659812e948d8b1:0x9ba2a116c7af985a!5m2!4m1!1i2!8m2!3d36.1207447!4d128.1282118?authuser=0&hl=ko&rclk=1', 'https://www.google.com/maps/place/%EB%AF%B8%EB%9D%BC%ED%81%B4%EB%AA%A8%ED%85%94/data=!4m8!3m7!1s0x3565980dbcb9f4d5:0x18da85c54f2255b8!5m2!4m1!1i2!8m2!3d36.1230105!4d128.1299408?authuser=0&hl=ko&rclk=1', 'https://www.google.com/maps/place/%EB%AA%BD%ED%94%8C%EB%9F%AC%EC%8A%A4%EB%AA%A8%ED%85%94/data=!4m8!3m7!1s0x35659813a8c3148f:0x5ca06a833db1bb4a!5m2!4m1!1i2!8m2!3d36.1189713!4d128.1294965?authuser=0&hl=ko&rclk=1', 'https://www.google.com/maps/place/%EC%88%98%EB%AA%A8%ED%85%94/data=!4m8!3m7!1s0x3565988a6350187b:0x20fc16f2a388daf8!5m2!4m1!1i2!8m2!3d36.1242951!4d128.1047524?authuser=0&hl=ko&rclk=1', 'https://www.google.com/maps/place/Gimcheon+Zai/data=!4m8!3m7!1s0x35659812875a6393:0x51d38f402460f4e9!5m2!4m1!1i2!8m2!3d36.121556!4d128.129204?authuser=0&hl=ko&rclk=1', 'https://www.google.com/maps/place/%EC%BB%A4%ED%94%8C%EB%AA%A8%ED%85%94/data=!4m8!3m7!1s0x356597ff2b3b8f7d:0x1608d9f16cfa2997!5m2!4m1!1i2!8m2!3d36.1187625!4d128.1501492?authuser=0&hl=ko&rclk=1', 'https://www.google.com/maps/place/%EB%A1%9C%EC%A0%9C%EB%8B%88%EC%95%84%ED%98%B8%ED%85%94/data=!4m8!3m7!1s0x3565bd7ba782b28b:0x5d0b3f7526453e18!5m2!4m1!1i2!8m2!3d36.1175931!4d128.1819973?authuser=0&hl=ko&rclk=1', 'https://www.google.com/maps/place/%EA%B9%80%EC%B2%9C+%ED%98%B8%ED%85%94+%EC%9D%B4%EC%83%81/data=!4m8!3m7!1s0x3565bd0b05c6b64d:0x37ae88bd54e0c5f5!5m2!4m1!1i2!8m2!3d36.1156099!4d128.1841475?authuser=0&hl=ko&rclk=1', 'https://www.google.com/maps/place/%EC%B9%B8%ED%94%8C%EB%9F%AC%EC%8A%A4+%EB%AA%A8%ED%85%94/data=!4m8!3m7!1s0x356597f8d11d3a8b:0xff3d21d224d35d8c!5m2!4m1!1i2!8m2!3d36.1183662!4d128.1499174?authuser=0&hl=ko&rclk=1', 'https://www.google.com/maps/place/Gimcheon+EX/data=!4m8!3m7!1s0x3565980d7a1cbe11:0x12e9ea826046e460!5m2!4m1!1i2!8m2!3d36.122546!4d128.128887?authuser=0&hl=ko&rclk=1', 'https://www.google.com/maps/place/Gimcheon+Zero+Self+Check-in+Motel/data=!4m8!3m7!1s0x35659ee29f2ccbb7:0x5394332723f81543!5m2!4m1!1i2!8m2!3d36.129605!4d128.032862?authuser=0&hl=ko&rclk=1', 'https://www.google.com/maps/place/Gimcheon+Hisense/data=!4m8!3m7!1s0x3565989d2406b45d:0xac081b71fb30899a!5m2!4m1!1i2!8m2!3d36.142367!4d128.093901?authuser=0&hl=ko&rclk=1', 'https://www.google.com/maps/place/%ED%98%B8%ED%85%94%EA%B8%88%EC%98%A4%EC%82%B0/data=!4m8!3m7!1s0x3565c0a9a539171f:0x37e531a5773d1c01!5m2!4m1!1i2!8m2!3d36.1102125!4d128.3097059?authuser=0&hl=ko&rclk=1', 'https://www.google.com/maps/place/%EA%B7%B9%EB%8F%99%EC%9E%A5%EC%97%AC%EA%B4%80/data=!4m8!3m7!1s0x3565988af88f8625:0x3c8564c0de8a1245!5m2!4m1!1i2!8m2!3d36.1245731!4d128.103253?authuser=0&hl=ko&rclk=1', 'https://www.google.com/maps/place/%EA%B0%80%EB%B9%88%EB%AA%A8%ED%85%94/data=!4m8!3m7!1s0x3565980dbd57b165:0x793fbbce720b9ab!5m2!4m1!1i2!8m2!3d36.12282!4d128.12991?authuser=0&hl=ko&rclk=1', 'https://www.google.com/maps/place/%EC%95%84%EB%A6%AC%EC%95%84%EC%9E%A5%EC%97%AC%EA%B4%80/data=!4m8!3m7!1s0x356598127e3f4a91:0xbaf7fba7061eb777!5m2!4m1!1i2!8m2!3d36.1208974!4d128.1295351?authuser=0&hl=ko&rclk=1', 'https://www.google.com/maps/place/%EB%B2%A0%EB%84%A4%EC%B9%98%EC%95%84/data=!4m8!3m7!1s0x3565980d9a72ff85:0x77fb3920edcb14f0!5m2!4m1!1i2!8m2!3d36.1224517!4d128.1298821?authuser=0&hl=ko&rclk=1', 'https://www.google.com/maps/place/%EB%B0%80%EB%9D%BC%EB%85%B8%EB%AA%A8%ED%85%94/data=!4m8!3m7!1s0x3565980da9311563:0x7f6a9d91d0a788b8!5m2!4m1!1i2!8m2!3d36.1196051!4d128.1279324?authuser=0&hl=ko&rclk=1', 'https://www.google.com/maps/place/%EC%9E%90%EC%9D%B4%EB%AA%A8%ED%85%94/data=!4m8!3m7!1s0x35659812875c9303:0xdabf04e9183aa138!5m2!4m1!1i2!8m2!3d36.1215385!4d128.1291996?authuser=0&hl=ko&rclk=1', 'https://www.google.com/maps/place/Gimcheon+YS+Self+Check-in+Motel/data=!4m8!3m7!1s0x3565be3f5c10b9bd:0xb003cff620ad1055!5m2!4m1!1i2!8m2!3d36.101403!4d128.257532?authuser=0&hl=ko&rclk=1', 'https://www.google.com/maps/place/%EB%AA%A8%ED%85%94%EC%9C%88/data=!4m8!3m7!1s0x35659812e948d8b1:0x9ba2a116c7af985a!5m2!4m1!1i2!8m2!3d36.1207447!4d128.1282118?authuser=0&hl=ko&rclk=1', 'https://www.google.com/maps/place/%EB%AF%B8%EB%9D%BC%ED%81%B4%EB%AA%A8%ED%85%94/data=!4m8!3m7!1s0x3565980dbcb9f4d5:0x18da85c54f2255b8!5m2!4m1!1i2!8m2!3d36.1230105!4d128.1299408?authuser=0&hl=ko&rclk=1', 'https://www.google.com/maps/place/%EB%AA%BD%ED%94%8C%EB%9F%AC%EC%8A%A4%EB%AA%A8%ED%85%94/data=!4m8!3m7!1s0x35659813a8c3148f:0x5ca06a833db1bb4a!5m2!4m1!1i2!8m2!3d36.1189713!4d128.1294965?authuser=0&hl=ko&rclk=1', 'https://www.google.com/maps/place/%EC%88%98%EB%AA%A8%ED%85%94/data=!4m8!3m7!1s0x3565988a6350187b:0x20fc16f2a388daf8!5m2!4m1!1i2!8m2!3d36.1242951!4d128.1047524?authuser=0&hl=ko&rclk=1', 'https://www.google.com/maps/place/Gimcheon+Zai/data=!4m8!3m7!1s0x35659812875a6393:0x51d38f402460f4e9!5m2!4m1!1i2!8m2!3d36.121556!4d128.129204?authuser=0&hl=ko&rclk=1', 'https://www.google.com/maps/place/%EC%BB%A4%ED%94%8C%EB%AA%A8%ED%85%94/data=!4m8!3m7!1s0x356597ff2b3b8f7d:0x1608d9f16cfa2997!5m2!4m1!1i2!8m2!3d36.1187625!4d128.1501492?authuser=0&hl=ko&rclk=1']\n"
     ]
    }
   ],
   "source": [
    "print('수집할 장소 개수 : ',len(url_list))\n",
    "print(url_list)"
   ]
  },
  {
   "cell_type": "markdown",
   "id": "7276bcec",
   "metadata": {},
   "source": [
    "###### 리뷰 스크랩"
   ]
  },
  {
   "cell_type": "code",
   "execution_count": null,
   "id": "1c269731",
   "metadata": {},
   "outputs": [],
   "source": [
    "\n"
   ]
  },
  {
   "cell_type": "code",
   "execution_count": 8,
   "id": "82d5224b",
   "metadata": {},
   "outputs": [
    {
     "name": "stderr",
     "output_type": "stream",
     "text": [
      "  0%|                                                                                          | 0/200 [00:00<?, ?it/s]\n"
     ]
    },
    {
     "ename": "InvalidSessionIdException",
     "evalue": "Message: invalid session id\nStacktrace:\nBacktrace:\n\tOrdinal0 [0x006106F3+2492147]\n\tOrdinal0 [0x005A9BD1+2071505]\n\tOrdinal0 [0x004B2340+1057600]\n\tOrdinal0 [0x004D1CC0+1187008]\n\tOrdinal0 [0x004F5737+1333047]\n\tOrdinal0 [0x004F37EA+1325034]\n\tOrdinal0 [0x004F33AF+1323951]\n\tOrdinal0 [0x00494FCF+937935]\n\tOrdinal0 [0x004954E6+939238]\n\tOrdinal0 [0x00495811+940049]\n\tGetHandleVerifier [0x007967A6+1545030]\n\tGetHandleVerifier [0x0084105C+2243580]\n\tGetHandleVerifier [0x0069BC97+518199]\n\tGetHandleVerifier [0x0069AD80+514336]\n\tOrdinal0 [0x005AED2D+2092333]\n\tOrdinal0 [0x00494D57+937303]\n\tOrdinal0 [0x00494862+936034]\n\tGetHandleVerifier [0x008669CC+2397548]\n\tBaseThreadInitThunk [0x75E26359+25]\n\tRtlGetAppContainerNamedObjectPath [0x77E187A4+228]\n\tRtlGetAppContainerNamedObjectPath [0x77E18774+180]\n",
     "output_type": "error",
     "traceback": [
      "\u001b[1;31m---------------------------------------------------------------------------\u001b[0m",
      "\u001b[1;31mInvalidSessionIdException\u001b[0m                 Traceback (most recent call last)",
      "\u001b[1;32m<ipython-input-8-bfc3757f5824>\u001b[0m in \u001b[0;36m<module>\u001b[1;34m\u001b[0m\n\u001b[0;32m      4\u001b[0m \u001b[1;32mfor\u001b[0m \u001b[0mx\u001b[0m \u001b[1;32min\u001b[0m \u001b[0mtqdm\u001b[0m\u001b[1;33m(\u001b[0m\u001b[0mrange\u001b[0m\u001b[1;33m(\u001b[0m\u001b[0mlen\u001b[0m\u001b[1;33m(\u001b[0m\u001b[0murl_list\u001b[0m\u001b[1;33m)\u001b[0m\u001b[1;33m)\u001b[0m\u001b[1;33m)\u001b[0m\u001b[1;33m:\u001b[0m\u001b[1;33m\u001b[0m\u001b[1;33m\u001b[0m\u001b[0m\n\u001b[0;32m      5\u001b[0m     \u001b[1;31m# url로 이동\u001b[0m\u001b[1;33m\u001b[0m\u001b[1;33m\u001b[0m\u001b[1;33m\u001b[0m\u001b[0m\n\u001b[1;32m----> 6\u001b[1;33m     \u001b[0mdriver\u001b[0m\u001b[1;33m.\u001b[0m\u001b[0mget\u001b[0m\u001b[1;33m(\u001b[0m\u001b[0murl_list\u001b[0m\u001b[1;33m[\u001b[0m\u001b[0mx\u001b[0m\u001b[1;33m]\u001b[0m\u001b[1;33m)\u001b[0m\u001b[1;33m\u001b[0m\u001b[1;33m\u001b[0m\u001b[0m\n\u001b[0m\u001b[0;32m      7\u001b[0m     \u001b[0mtime\u001b[0m\u001b[1;33m.\u001b[0m\u001b[0msleep\u001b[0m\u001b[1;33m(\u001b[0m\u001b[1;36m1\u001b[0m\u001b[1;33m)\u001b[0m\u001b[1;33m\u001b[0m\u001b[1;33m\u001b[0m\u001b[0m\n\u001b[0;32m      8\u001b[0m \u001b[1;33m\u001b[0m\u001b[0m\n",
      "\u001b[1;32mC:\\anaconda3\\lib\\site-packages\\selenium\\webdriver\\remote\\webdriver.py\u001b[0m in \u001b[0;36mget\u001b[1;34m(self, url)\u001b[0m\n\u001b[0;32m    428\u001b[0m         \u001b[0mLoads\u001b[0m \u001b[0ma\u001b[0m \u001b[0mweb\u001b[0m \u001b[0mpage\u001b[0m \u001b[1;32min\u001b[0m \u001b[0mthe\u001b[0m \u001b[0mcurrent\u001b[0m \u001b[0mbrowser\u001b[0m \u001b[0msession\u001b[0m\u001b[1;33m.\u001b[0m\u001b[1;33m\u001b[0m\u001b[1;33m\u001b[0m\u001b[0m\n\u001b[0;32m    429\u001b[0m         \"\"\"\n\u001b[1;32m--> 430\u001b[1;33m         \u001b[0mself\u001b[0m\u001b[1;33m.\u001b[0m\u001b[0mexecute\u001b[0m\u001b[1;33m(\u001b[0m\u001b[0mCommand\u001b[0m\u001b[1;33m.\u001b[0m\u001b[0mGET\u001b[0m\u001b[1;33m,\u001b[0m \u001b[1;33m{\u001b[0m\u001b[1;34m'url'\u001b[0m\u001b[1;33m:\u001b[0m \u001b[0murl\u001b[0m\u001b[1;33m}\u001b[0m\u001b[1;33m)\u001b[0m\u001b[1;33m\u001b[0m\u001b[1;33m\u001b[0m\u001b[0m\n\u001b[0m\u001b[0;32m    431\u001b[0m \u001b[1;33m\u001b[0m\u001b[0m\n\u001b[0;32m    432\u001b[0m     \u001b[1;33m@\u001b[0m\u001b[0mproperty\u001b[0m\u001b[1;33m\u001b[0m\u001b[1;33m\u001b[0m\u001b[0m\n",
      "\u001b[1;32mC:\\anaconda3\\lib\\site-packages\\selenium\\webdriver\\remote\\webdriver.py\u001b[0m in \u001b[0;36mexecute\u001b[1;34m(self, driver_command, params)\u001b[0m\n\u001b[0;32m    416\u001b[0m         \u001b[0mresponse\u001b[0m \u001b[1;33m=\u001b[0m \u001b[0mself\u001b[0m\u001b[1;33m.\u001b[0m\u001b[0mcommand_executor\u001b[0m\u001b[1;33m.\u001b[0m\u001b[0mexecute\u001b[0m\u001b[1;33m(\u001b[0m\u001b[0mdriver_command\u001b[0m\u001b[1;33m,\u001b[0m \u001b[0mparams\u001b[0m\u001b[1;33m)\u001b[0m\u001b[1;33m\u001b[0m\u001b[1;33m\u001b[0m\u001b[0m\n\u001b[0;32m    417\u001b[0m         \u001b[1;32mif\u001b[0m \u001b[0mresponse\u001b[0m\u001b[1;33m:\u001b[0m\u001b[1;33m\u001b[0m\u001b[1;33m\u001b[0m\u001b[0m\n\u001b[1;32m--> 418\u001b[1;33m             \u001b[0mself\u001b[0m\u001b[1;33m.\u001b[0m\u001b[0merror_handler\u001b[0m\u001b[1;33m.\u001b[0m\u001b[0mcheck_response\u001b[0m\u001b[1;33m(\u001b[0m\u001b[0mresponse\u001b[0m\u001b[1;33m)\u001b[0m\u001b[1;33m\u001b[0m\u001b[1;33m\u001b[0m\u001b[0m\n\u001b[0m\u001b[0;32m    419\u001b[0m             response['value'] = self._unwrap_value(\n\u001b[0;32m    420\u001b[0m                 response.get('value', None))\n",
      "\u001b[1;32mC:\\anaconda3\\lib\\site-packages\\selenium\\webdriver\\remote\\errorhandler.py\u001b[0m in \u001b[0;36mcheck_response\u001b[1;34m(self, response)\u001b[0m\n\u001b[0;32m    241\u001b[0m                 \u001b[0malert_text\u001b[0m \u001b[1;33m=\u001b[0m \u001b[0mvalue\u001b[0m\u001b[1;33m[\u001b[0m\u001b[1;34m'alert'\u001b[0m\u001b[1;33m]\u001b[0m\u001b[1;33m.\u001b[0m\u001b[0mget\u001b[0m\u001b[1;33m(\u001b[0m\u001b[1;34m'text'\u001b[0m\u001b[1;33m)\u001b[0m\u001b[1;33m\u001b[0m\u001b[1;33m\u001b[0m\u001b[0m\n\u001b[0;32m    242\u001b[0m             \u001b[1;32mraise\u001b[0m \u001b[0mexception_class\u001b[0m\u001b[1;33m(\u001b[0m\u001b[0mmessage\u001b[0m\u001b[1;33m,\u001b[0m \u001b[0mscreen\u001b[0m\u001b[1;33m,\u001b[0m \u001b[0mstacktrace\u001b[0m\u001b[1;33m,\u001b[0m \u001b[0malert_text\u001b[0m\u001b[1;33m)\u001b[0m  \u001b[1;31m# type: ignore[call-arg]  # mypy is not smart enough here\u001b[0m\u001b[1;33m\u001b[0m\u001b[1;33m\u001b[0m\u001b[0m\n\u001b[1;32m--> 243\u001b[1;33m         \u001b[1;32mraise\u001b[0m \u001b[0mexception_class\u001b[0m\u001b[1;33m(\u001b[0m\u001b[0mmessage\u001b[0m\u001b[1;33m,\u001b[0m \u001b[0mscreen\u001b[0m\u001b[1;33m,\u001b[0m \u001b[0mstacktrace\u001b[0m\u001b[1;33m)\u001b[0m\u001b[1;33m\u001b[0m\u001b[1;33m\u001b[0m\u001b[0m\n\u001b[0m\u001b[0;32m    244\u001b[0m \u001b[1;33m\u001b[0m\u001b[0m\n\u001b[0;32m    245\u001b[0m     \u001b[1;32mdef\u001b[0m \u001b[0m_value_or_default\u001b[0m\u001b[1;33m(\u001b[0m\u001b[0mself\u001b[0m\u001b[1;33m,\u001b[0m \u001b[0mobj\u001b[0m\u001b[1;33m:\u001b[0m \u001b[0mMapping\u001b[0m\u001b[1;33m[\u001b[0m\u001b[0m_KT\u001b[0m\u001b[1;33m,\u001b[0m \u001b[0m_VT\u001b[0m\u001b[1;33m]\u001b[0m\u001b[1;33m,\u001b[0m \u001b[0mkey\u001b[0m\u001b[1;33m:\u001b[0m \u001b[0m_KT\u001b[0m\u001b[1;33m,\u001b[0m \u001b[0mdefault\u001b[0m\u001b[1;33m:\u001b[0m \u001b[0m_VT\u001b[0m\u001b[1;33m)\u001b[0m \u001b[1;33m->\u001b[0m \u001b[0m_VT\u001b[0m\u001b[1;33m:\u001b[0m\u001b[1;33m\u001b[0m\u001b[1;33m\u001b[0m\u001b[0m\n",
      "\u001b[1;31mInvalidSessionIdException\u001b[0m: Message: invalid session id\nStacktrace:\nBacktrace:\n\tOrdinal0 [0x006106F3+2492147]\n\tOrdinal0 [0x005A9BD1+2071505]\n\tOrdinal0 [0x004B2340+1057600]\n\tOrdinal0 [0x004D1CC0+1187008]\n\tOrdinal0 [0x004F5737+1333047]\n\tOrdinal0 [0x004F37EA+1325034]\n\tOrdinal0 [0x004F33AF+1323951]\n\tOrdinal0 [0x00494FCF+937935]\n\tOrdinal0 [0x004954E6+939238]\n\tOrdinal0 [0x00495811+940049]\n\tGetHandleVerifier [0x007967A6+1545030]\n\tGetHandleVerifier [0x0084105C+2243580]\n\tGetHandleVerifier [0x0069BC97+518199]\n\tGetHandleVerifier [0x0069AD80+514336]\n\tOrdinal0 [0x005AED2D+2092333]\n\tOrdinal0 [0x00494D57+937303]\n\tOrdinal0 [0x00494862+936034]\n\tGetHandleVerifier [0x008669CC+2397548]\n\tBaseThreadInitThunk [0x75E26359+25]\n\tRtlGetAppContainerNamedObjectPath [0x77E187A4+228]\n\tRtlGetAppContainerNamedObjectPath [0x77E18774+180]\n"
     ]
    }
   ],
   "source": [
    "review_list = []\n",
    "#address = []\n",
    "\n",
    "for x in tqdm(range(len(url_list))):\n",
    "    # url로 이동 \n",
    "    driver.get(url_list[x])\n",
    "    time.sleep(1)\n",
    "    \n",
    "    # 숙박업소주소\n",
    "    #address_p = driver.find_element_by_css_selector('div.QSFF4-text.gm2-body-2')\n",
    "    #address.append(address_p.text)\n",
    "    place = driver.find_element_by_class_name('x3AX1-LfntMc-header-title-title.gm2-headline-5').text\n",
    "    \n",
    "    try:\n",
    "        # 리뷰 더보기 클릭 \n",
    "        driver.find_element_by_css_selector('#pane > div > div.Yr7JMd-pane-content.cYB2Ge-oHo7ed > div > div > div.x3AX1-LfntMc-header-title > div.x3AX1-LfntMc-header-title-ma6Yeb-haAclf > div.x3AX1-LfntMc-header-title-ij8cu > div.x3AX1-LfntMc-header-title-ij8cu-haAclf > div > div.gm2-body-2.h0ySl-wcwwM-RWgCYc > span:nth-child(3) > span > span > span.OAO0-ZEhYpd-vJ7A6b.OAO0-ZEhYpd-vJ7A6b-qnnXGd > span:nth-child(1) > button').click()\n",
    "        time.sleep(3)\n",
    "\n",
    "        try :\n",
    "            #리뷰 스크롤 진행 \n",
    "            for i in range(100) : \n",
    "                driver.find_element_by_class_name('siAUzd-neVct.section-scrollbox.cYB2Ge-oHo7ed.cYB2Ge-ti6hGc').send_keys(Keys.PAGE_DOWN)\n",
    "                \n",
    "            review_dict = {}\n",
    "    \n",
    "            #path \n",
    "            \n",
    "            name_p = driver.find_elements_by_css_selector('div.ODSEW-ShBeI-title')   \n",
    "            date_p = driver.find_elements_by_css_selector('span.ODSEW-ShBeI-RgZmSc-date-J42Xof-Hjleke > span:nth-child(1)')\n",
    "            text_p = driver.find_elements_by_css_selector('div.ODSEW-ShBeI-RWgCYc > div > span.ODSEW-ShBeI-text')\n",
    "            stars_p = driver.find_elements_by_css_selector('span.ODSEW-ShBeI-RGxYjb-wcwwM')\n",
    "            \n",
    "            names = []\n",
    "            dates = []\n",
    "            texts = []\n",
    "            stars = []\n",
    "            \n",
    "            # text로 변환 \n",
    "            for index in range(len(name_p)) : \n",
    "                names.append(name_p[index].text)\n",
    "                dates.append(date_p[index].text)\n",
    "                texts.append(text_p[index].text.replace('\\n',' '))   \n",
    "                stars.append(stars_p[index].text)\n",
    "                \n",
    "            review_dict['place'] = place      \n",
    "            #review_dict['address'] = address            # 주소 추가 \n",
    "            review_dict['review_cnt'] = len(names) # 리뷰 개수 추가 \n",
    "            review_dict['writer'] = names\n",
    "            review_dict['date'] = dates\n",
    "            review_dict['stars'] = stars           #리뷰별 별점 추가\n",
    "            review_dict['content'] = texts\n",
    "            review_dict['url'] = url_list[x]\n",
    "            \n",
    "            #print(review_dict)\n",
    "            \n",
    "            review_list.append(review_dict)\n",
    "            \n",
    "        except:\n",
    "            continue\n",
    "    except:\n",
    "        continue\n",
    "\n"
   ]
  },
  {
   "cell_type": "code",
   "execution_count": null,
   "id": "300e9c0c",
   "metadata": {},
   "outputs": [],
   "source": [
    "#review_df.rename(columns={'restaurant':'place'}, inplace=True)"
   ]
  },
  {
   "cell_type": "code",
   "execution_count": null,
   "id": "ecd35a3b",
   "metadata": {},
   "outputs": [],
   "source": []
  },
  {
   "cell_type": "code",
   "execution_count": null,
   "id": "a99f001d",
   "metadata": {
    "scrolled": true
   },
   "outputs": [],
   "source": [
    "review_df = pd.DataFrame(review_list)\n"
   ]
  },
  {
   "cell_type": "code",
   "execution_count": null,
   "id": "33c01b25",
   "metadata": {},
   "outputs": [],
   "source": [
    "review_df.tail(20)"
   ]
  },
  {
   "cell_type": "code",
   "execution_count": null,
   "id": "cefbf08d",
   "metadata": {},
   "outputs": [],
   "source": [
    "review_df.to_csv('C:/Users/seoyeonho/Desktop/Crawler_csv/googlemaps_1111_김천숙소(200).csv', index=False)"
   ]
  },
  {
   "cell_type": "code",
   "execution_count": null,
   "id": "afa4e903",
   "metadata": {},
   "outputs": [],
   "source": []
  },
  {
   "cell_type": "code",
   "execution_count": null,
   "id": "d5efa83c",
   "metadata": {},
   "outputs": [],
   "source": [
    "revide_df = review_df.drop(['address'],axis=1)"
   ]
  },
  {
   "cell_type": "code",
   "execution_count": null,
   "id": "2deda800",
   "metadata": {},
   "outputs": [],
   "source": [
    "revide_df"
   ]
  },
  {
   "cell_type": "code",
   "execution_count": null,
   "id": "4f4af3ab",
   "metadata": {},
   "outputs": [],
   "source": [
    "review_df.to_csv('C:/Users/seoyeonho/Desktop/Crawler_csv/googlemaps_1111_김천숙소(200)_주소삭제.csv', index=False)"
   ]
  }
 ],
 "metadata": {
  "kernelspec": {
   "display_name": "Python 3",
   "language": "python",
   "name": "python3"
  },
  "language_info": {
   "codemirror_mode": {
    "name": "ipython",
    "version": 3
   },
   "file_extension": ".py",
   "mimetype": "text/x-python",
   "name": "python",
   "nbconvert_exporter": "python",
   "pygments_lexer": "ipython3",
   "version": "3.8.8"
  }
 },
 "nbformat": 4,
 "nbformat_minor": 5
}
