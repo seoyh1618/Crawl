{
 "cells": [
  {
   "cell_type": "markdown",
   "id": "f30b8ec3",
   "metadata": {},
   "source": [
    "##### 2021/07\n",
    "###### author : 손해원\n",
    "\n",
    "- 인스타그램에 키워드를 검색하여 게시글의 정보를 크롤링하는 코드입니다. "
   ]
  },
  {
   "cell_type": "code",
   "execution_count": 2,
   "id": "cb090225",
   "metadata": {},
   "outputs": [],
   "source": [
    "from selenium import webdriver\n",
    "import time\n",
    "import re\n",
    "import json\n",
    "import pandas as pd\n",
    "from selenium.webdriver.common.keys import Keys\n",
    "from selenium.webdriver.support.ui import WebDriverWait \n",
    "from selenium.webdriver.support import expected_conditions as EC\n",
    "from tqdm import tqdm\n",
    "import os\n",
    "import multiprocessing"
   ]
  },
  {
   "cell_type": "markdown",
   "id": "efb7324c",
   "metadata": {},
   "source": [
    "### Load Chromedriver & Log In"
   ]
  },
  {
   "cell_type": "code",
   "execution_count": 3,
   "id": "d235b9b0",
   "metadata": {},
   "outputs": [],
   "source": [
    "my_id = 'yeonhhhhh5'   ### ID \n",
    "my_pw = '@aa1149118'   ### PASSWORD\n",
    "driver_path = 'C:\\dev_python\\Webdriver\\chromedriver'\n",
    "instagram ='https://www.instagram.com'\n",
    "# id/pw 입력 -> 로그인 정보 저장 여부 -> 피드"
   ]
  },
  {
   "cell_type": "code",
   "execution_count": 4,
   "id": "15833e38",
   "metadata": {
    "scrolled": true
   },
   "outputs": [
    {
     "name": "stderr",
     "output_type": "stream",
     "text": [
      "<ipython-input-4-2328cdddebf4>:1: DeprecationWarning: executable_path has been deprecated, please pass in a Service object\n",
      "  driver = webdriver.Chrome(driver_path)\n"
     ]
    }
   ],
   "source": [
    "driver = webdriver.Chrome(driver_path)\n",
    "driver.get(instagram)"
   ]
  },
  {
   "cell_type": "code",
   "execution_count": 5,
   "id": "c8b43bc1",
   "metadata": {},
   "outputs": [
    {
     "name": "stderr",
     "output_type": "stream",
     "text": [
      "<ipython-input-5-26b57dbbb05f>:2: DeprecationWarning: find_element_by_* commands are deprecated. Please use find_element() instead\n",
      "  id_ = driver.find_element_by_css_selector('#loginForm > div > div:nth-child(1) > div > label > input') # id\n",
      "<ipython-input-5-26b57dbbb05f>:4: DeprecationWarning: find_element_by_* commands are deprecated. Please use find_element() instead\n",
      "  pw_ = driver.find_element_by_xpath('//*[@id=\"loginForm\"]/div/div[2]/div/label/input') # pw\n",
      "<ipython-input-5-26b57dbbb05f>:6: DeprecationWarning: find_element_by_* commands are deprecated. Please use find_element() instead\n",
      "  driver.find_element_by_css_selector('#loginForm > div > div:nth-child(3)').click() # 로그인\n"
     ]
    }
   ],
   "source": [
    "time.sleep(2)\n",
    "id_ = driver.find_element_by_css_selector('#loginForm > div > div:nth-child(1) > div > label > input') # id\n",
    "id_.send_keys(my_id)\n",
    "pw_ = driver.find_element_by_xpath('//*[@id=\"loginForm\"]/div/div[2]/div/label/input') # pw\n",
    "pw_.send_keys(my_pw)\n",
    "driver.find_element_by_css_selector('#loginForm > div > div:nth-child(3)').click() # 로그인\n"
   ]
  },
  {
   "cell_type": "code",
   "execution_count": 6,
   "id": "49bc9a37",
   "metadata": {
    "scrolled": true
   },
   "outputs": [
    {
     "name": "stderr",
     "output_type": "stream",
     "text": [
      "<ipython-input-6-31d05c215dbb>:2: DeprecationWarning: find_element_by_* commands are deprecated. Please use find_element() instead\n",
      "  driver.find_element_by_class_name('sqdOP.yWX7d.y3zKF').click() # 정보 저장 안함\n",
      "<ipython-input-6-31d05c215dbb>:7: DeprecationWarning: find_element_by_* commands are deprecated. Please use find_element() instead\n",
      "  driver.find_element_by_css_selector('body > div.RnEpo.Yx5HN > div > div > div > div.mt3GC > button.aOOlW.HoLwm').click()\n"
     ]
    }
   ],
   "source": [
    "time.sleep(3)\n",
    "driver.find_element_by_class_name('sqdOP.yWX7d.y3zKF').click() # 정보 저장 안함\n",
    "    \n",
    "driver.wait = driver.implicitly_wait(10)\n",
    "\n",
    "# 알림 설정 나중에 \n",
    "driver.find_element_by_css_selector('body > div.RnEpo.Yx5HN > div > div > div > div.mt3GC > button.aOOlW.HoLwm').click()\n",
    "    "
   ]
  },
  {
   "cell_type": "raw",
   "id": "e341a019",
   "metadata": {},
   "source": [
    "### 검색"
   ]
  },
  {
   "cell_type": "code",
   "execution_count": 7,
   "id": "1f3e4a31",
   "metadata": {},
   "outputs": [],
   "source": [
    "query = '김천호텔'   ######################## 검색할 내용 입력\n",
    "\n",
    "try:\n",
    "    url = 'https://www.instagram.com/explore/tags/{}/'.format(query)\n",
    "    driver.get(url)\n",
    "except :\n",
    "    time.sleep(3)\n",
    "    driver.get(url) \n",
    "    \n",
    "driver.maximize_window()"
   ]
  },
  {
   "cell_type": "code",
   "execution_count": 8,
   "id": "6a65097a",
   "metadata": {},
   "outputs": [
    {
     "name": "stderr",
     "output_type": "stream",
     "text": [
      "<ipython-input-8-0c229527d784>:3: DeprecationWarning: find_element_by_* commands are deprecated. Please use find_element() instead\n",
      "  driver.find_element_by_class_name(first_img).click()\n"
     ]
    }
   ],
   "source": [
    "# 첫번째 게시물 클릭\n",
    "first_img = '_9AhH0'\n",
    "driver.find_element_by_class_name(first_img).click()"
   ]
  },
  {
   "cell_type": "markdown",
   "id": "f9d96c21",
   "metadata": {},
   "source": [
    "### 게시물 스크랩"
   ]
  },
  {
   "cell_type": "code",
   "execution_count": 9,
   "id": "a4279334",
   "metadata": {},
   "outputs": [],
   "source": [
    "from urllib.request import urlopen\n",
    "from urllib.parse import quote_plus\n",
    "from bs4 import BeautifulSoup\n",
    "import requests\n",
    "import shutil"
   ]
  },
  {
   "cell_type": "code",
   "execution_count": 10,
   "id": "630f3766",
   "metadata": {},
   "outputs": [
    {
     "name": "stderr",
     "output_type": "stream",
     "text": [
      "  0%|                                                                                          | 0/700 [00:00<?, ?it/s]<ipython-input-10-7349819d2929>:41: DeprecationWarning: find_element_by_* commands are deprecated. Please use find_element() instead\n",
      "  content_link = driver.find_element_by_class_name('zV_Nj').get_attribute('href')\n",
      "<ipython-input-10-7349819d2929>:48: DeprecationWarning: find_element_by_* commands are deprecated. Please use find_element() instead\n",
      "  user_id_obj = driver.find_element_by_class_name(user_id_path)\n",
      "<ipython-input-10-7349819d2929>:59: DeprecationWarning: find_element_by_* commands are deprecated. Please use find_element() instead\n",
      "  location_obj = driver.find_element_by_class_name(location_class)\n",
      "<ipython-input-10-7349819d2929>:86: DeprecationWarning: find_element_by_* commands are deprecated. Please use find_element() instead\n",
      "  main_text_obj = driver.find_element_by_class_name(main_text_path)\n",
      "<ipython-input-10-7349819d2929>:99: DeprecationWarning: find_elements_by_* commands are deprecated. Please use find_elements() instead\n",
      "  tags = driver.find_elements_by_class_name('xil3i')\n",
      "<ipython-input-10-7349819d2929>:110: DeprecationWarning: find_element_by_* commands are deprecated. Please use find_element() instead\n",
      "  like = driver.find_element_by_xpath('/html/body/div[6]/div[2]/div/article/div/div[2]/div/div/div[2]/section[2]/div/div/a/span')\n",
      "<ipython-input-10-7349819d2929>:120: DeprecationWarning: find_element_by_* commands are deprecated. Please use find_element() instead\n",
      "  date_obj = driver.find_element_by_xpath('/html/body/div[6]/div[2]/div/article/div/div[2]/div/div/div[2]/div[2]/a/time')\n",
      "  0%|                                                                                          | 0/700 [00:25<?, ?it/s]\n"
     ]
    },
    {
     "ename": "NoSuchElementException",
     "evalue": "Message: no such element: Unable to locate element: {\"method\":\"xpath\",\"selector\":\"/html/body/div[6]/div[2]/div/article/div/div[2]/div/div/div[2]/div[2]/a/time\"}\n  (Session info: chrome=95.0.4638.69)\nStacktrace:\nBacktrace:\n\tOrdinal0 [0x006106F3+2492147]\n\tOrdinal0 [0x005A9BD1+2071505]\n\tOrdinal0 [0x004B2478+1057912]\n\tOrdinal0 [0x004DC964+1231204]\n\tOrdinal0 [0x00506B62+1403746]\n\tOrdinal0 [0x004F57FA+1333242]\n\tOrdinal0 [0x00504F38+1396536]\n\tOrdinal0 [0x004F568B+1332875]\n\tOrdinal0 [0x004D21D4+1188308]\n\tOrdinal0 [0x004D302F+1191983]\n\tGetHandleVerifier [0x007967A6+1545030]\n\tGetHandleVerifier [0x0084105C+2243580]\n\tGetHandleVerifier [0x0069BC97+518199]\n\tGetHandleVerifier [0x0069AD80+514336]\n\tOrdinal0 [0x005AED2D+2092333]\n\tOrdinal0 [0x005B2EE8+2109160]\n\tOrdinal0 [0x005B3022+2109474]\n\tOrdinal0 [0x005BCB71+2149233]\n\tBaseThreadInitThunk [0x75E26359+25]\n\tRtlGetAppContainerNamedObjectPath [0x77E187A4+228]\n\tRtlGetAppContainerNamedObjectPath [0x77E18774+180]\n",
     "output_type": "error",
     "traceback": [
      "\u001b[1;31m---------------------------------------------------------------------------\u001b[0m",
      "\u001b[1;31mNoSuchElementException\u001b[0m                    Traceback (most recent call last)",
      "\u001b[1;32m<ipython-input-10-7349819d2929>\u001b[0m in \u001b[0;36m<module>\u001b[1;34m\u001b[0m\n\u001b[0;32m    118\u001b[0m     \u001b[1;31m# 날짜\u001b[0m\u001b[1;33m\u001b[0m\u001b[1;33m\u001b[0m\u001b[1;33m\u001b[0m\u001b[0m\n\u001b[0;32m    119\u001b[0m     \u001b[1;31m#try :\u001b[0m\u001b[1;33m\u001b[0m\u001b[1;33m\u001b[0m\u001b[1;33m\u001b[0m\u001b[0m\n\u001b[1;32m--> 120\u001b[1;33m     \u001b[0mdate_obj\u001b[0m \u001b[1;33m=\u001b[0m \u001b[0mdriver\u001b[0m\u001b[1;33m.\u001b[0m\u001b[0mfind_element_by_xpath\u001b[0m\u001b[1;33m(\u001b[0m\u001b[1;34m'/html/body/div[6]/div[2]/div/article/div/div[2]/div/div/div[2]/div[2]/a/time'\u001b[0m\u001b[1;33m)\u001b[0m\u001b[1;33m\u001b[0m\u001b[1;33m\u001b[0m\u001b[0m\n\u001b[0m\u001b[0;32m    121\u001b[0m \u001b[1;33m\u001b[0m\u001b[0m\n\u001b[0;32m    122\u001b[0m     \u001b[0mdate_text\u001b[0m \u001b[1;33m=\u001b[0m \u001b[0mdate_obj\u001b[0m\u001b[1;33m.\u001b[0m\u001b[0mget_attribute\u001b[0m\u001b[1;33m(\u001b[0m\u001b[1;34m\"title\"\u001b[0m\u001b[1;33m)\u001b[0m\u001b[1;33m\u001b[0m\u001b[1;33m\u001b[0m\u001b[0m\n",
      "\u001b[1;32mC:\\anaconda3\\lib\\site-packages\\selenium\\webdriver\\remote\\webdriver.py\u001b[0m in \u001b[0;36mfind_element_by_xpath\u001b[1;34m(self, xpath)\u001b[0m\n\u001b[0;32m    512\u001b[0m             \u001b[0mstacklevel\u001b[0m\u001b[1;33m=\u001b[0m\u001b[1;36m2\u001b[0m\u001b[1;33m,\u001b[0m\u001b[1;33m\u001b[0m\u001b[1;33m\u001b[0m\u001b[0m\n\u001b[0;32m    513\u001b[0m         )\n\u001b[1;32m--> 514\u001b[1;33m         \u001b[1;32mreturn\u001b[0m \u001b[0mself\u001b[0m\u001b[1;33m.\u001b[0m\u001b[0mfind_element\u001b[0m\u001b[1;33m(\u001b[0m\u001b[0mby\u001b[0m\u001b[1;33m=\u001b[0m\u001b[0mBy\u001b[0m\u001b[1;33m.\u001b[0m\u001b[0mXPATH\u001b[0m\u001b[1;33m,\u001b[0m \u001b[0mvalue\u001b[0m\u001b[1;33m=\u001b[0m\u001b[0mxpath\u001b[0m\u001b[1;33m)\u001b[0m\u001b[1;33m\u001b[0m\u001b[1;33m\u001b[0m\u001b[0m\n\u001b[0m\u001b[0;32m    515\u001b[0m \u001b[1;33m\u001b[0m\u001b[0m\n\u001b[0;32m    516\u001b[0m     \u001b[1;32mdef\u001b[0m \u001b[0mfind_elements_by_xpath\u001b[0m\u001b[1;33m(\u001b[0m\u001b[0mself\u001b[0m\u001b[1;33m,\u001b[0m \u001b[0mxpath\u001b[0m\u001b[1;33m)\u001b[0m \u001b[1;33m->\u001b[0m \u001b[0mWebElement\u001b[0m\u001b[1;33m:\u001b[0m\u001b[1;33m\u001b[0m\u001b[1;33m\u001b[0m\u001b[0m\n",
      "\u001b[1;32mC:\\anaconda3\\lib\\site-packages\\selenium\\webdriver\\remote\\webdriver.py\u001b[0m in \u001b[0;36mfind_element\u001b[1;34m(self, by, value)\u001b[0m\n\u001b[0;32m   1236\u001b[0m             \u001b[0mvalue\u001b[0m \u001b[1;33m=\u001b[0m \u001b[1;34m'[name=\"%s\"]'\u001b[0m \u001b[1;33m%\u001b[0m \u001b[0mvalue\u001b[0m\u001b[1;33m\u001b[0m\u001b[1;33m\u001b[0m\u001b[0m\n\u001b[0;32m   1237\u001b[0m \u001b[1;33m\u001b[0m\u001b[0m\n\u001b[1;32m-> 1238\u001b[1;33m         return self.execute(Command.FIND_ELEMENT, {\n\u001b[0m\u001b[0;32m   1239\u001b[0m             \u001b[1;34m'using'\u001b[0m\u001b[1;33m:\u001b[0m \u001b[0mby\u001b[0m\u001b[1;33m,\u001b[0m\u001b[1;33m\u001b[0m\u001b[1;33m\u001b[0m\u001b[0m\n\u001b[0;32m   1240\u001b[0m             'value': value})['value']\n",
      "\u001b[1;32mC:\\anaconda3\\lib\\site-packages\\selenium\\webdriver\\remote\\webdriver.py\u001b[0m in \u001b[0;36mexecute\u001b[1;34m(self, driver_command, params)\u001b[0m\n\u001b[0;32m    416\u001b[0m         \u001b[0mresponse\u001b[0m \u001b[1;33m=\u001b[0m \u001b[0mself\u001b[0m\u001b[1;33m.\u001b[0m\u001b[0mcommand_executor\u001b[0m\u001b[1;33m.\u001b[0m\u001b[0mexecute\u001b[0m\u001b[1;33m(\u001b[0m\u001b[0mdriver_command\u001b[0m\u001b[1;33m,\u001b[0m \u001b[0mparams\u001b[0m\u001b[1;33m)\u001b[0m\u001b[1;33m\u001b[0m\u001b[1;33m\u001b[0m\u001b[0m\n\u001b[0;32m    417\u001b[0m         \u001b[1;32mif\u001b[0m \u001b[0mresponse\u001b[0m\u001b[1;33m:\u001b[0m\u001b[1;33m\u001b[0m\u001b[1;33m\u001b[0m\u001b[0m\n\u001b[1;32m--> 418\u001b[1;33m             \u001b[0mself\u001b[0m\u001b[1;33m.\u001b[0m\u001b[0merror_handler\u001b[0m\u001b[1;33m.\u001b[0m\u001b[0mcheck_response\u001b[0m\u001b[1;33m(\u001b[0m\u001b[0mresponse\u001b[0m\u001b[1;33m)\u001b[0m\u001b[1;33m\u001b[0m\u001b[1;33m\u001b[0m\u001b[0m\n\u001b[0m\u001b[0;32m    419\u001b[0m             response['value'] = self._unwrap_value(\n\u001b[0;32m    420\u001b[0m                 response.get('value', None))\n",
      "\u001b[1;32mC:\\anaconda3\\lib\\site-packages\\selenium\\webdriver\\remote\\errorhandler.py\u001b[0m in \u001b[0;36mcheck_response\u001b[1;34m(self, response)\u001b[0m\n\u001b[0;32m    241\u001b[0m                 \u001b[0malert_text\u001b[0m \u001b[1;33m=\u001b[0m \u001b[0mvalue\u001b[0m\u001b[1;33m[\u001b[0m\u001b[1;34m'alert'\u001b[0m\u001b[1;33m]\u001b[0m\u001b[1;33m.\u001b[0m\u001b[0mget\u001b[0m\u001b[1;33m(\u001b[0m\u001b[1;34m'text'\u001b[0m\u001b[1;33m)\u001b[0m\u001b[1;33m\u001b[0m\u001b[1;33m\u001b[0m\u001b[0m\n\u001b[0;32m    242\u001b[0m             \u001b[1;32mraise\u001b[0m \u001b[0mexception_class\u001b[0m\u001b[1;33m(\u001b[0m\u001b[0mmessage\u001b[0m\u001b[1;33m,\u001b[0m \u001b[0mscreen\u001b[0m\u001b[1;33m,\u001b[0m \u001b[0mstacktrace\u001b[0m\u001b[1;33m,\u001b[0m \u001b[0malert_text\u001b[0m\u001b[1;33m)\u001b[0m  \u001b[1;31m# type: ignore[call-arg]  # mypy is not smart enough here\u001b[0m\u001b[1;33m\u001b[0m\u001b[1;33m\u001b[0m\u001b[0m\n\u001b[1;32m--> 243\u001b[1;33m         \u001b[1;32mraise\u001b[0m \u001b[0mexception_class\u001b[0m\u001b[1;33m(\u001b[0m\u001b[0mmessage\u001b[0m\u001b[1;33m,\u001b[0m \u001b[0mscreen\u001b[0m\u001b[1;33m,\u001b[0m \u001b[0mstacktrace\u001b[0m\u001b[1;33m)\u001b[0m\u001b[1;33m\u001b[0m\u001b[1;33m\u001b[0m\u001b[0m\n\u001b[0m\u001b[0;32m    244\u001b[0m \u001b[1;33m\u001b[0m\u001b[0m\n\u001b[0;32m    245\u001b[0m     \u001b[1;32mdef\u001b[0m \u001b[0m_value_or_default\u001b[0m\u001b[1;33m(\u001b[0m\u001b[0mself\u001b[0m\u001b[1;33m,\u001b[0m \u001b[0mobj\u001b[0m\u001b[1;33m:\u001b[0m \u001b[0mMapping\u001b[0m\u001b[1;33m[\u001b[0m\u001b[0m_KT\u001b[0m\u001b[1;33m,\u001b[0m \u001b[0m_VT\u001b[0m\u001b[1;33m]\u001b[0m\u001b[1;33m,\u001b[0m \u001b[0mkey\u001b[0m\u001b[1;33m:\u001b[0m \u001b[0m_KT\u001b[0m\u001b[1;33m,\u001b[0m \u001b[0mdefault\u001b[0m\u001b[1;33m:\u001b[0m \u001b[0m_VT\u001b[0m\u001b[1;33m)\u001b[0m \u001b[1;33m->\u001b[0m \u001b[0m_VT\u001b[0m\u001b[1;33m:\u001b[0m\u001b[1;33m\u001b[0m\u001b[1;33m\u001b[0m\u001b[0m\n",
      "\u001b[1;31mNoSuchElementException\u001b[0m: Message: no such element: Unable to locate element: {\"method\":\"xpath\",\"selector\":\"/html/body/div[6]/div[2]/div/article/div/div[2]/div/div/div[2]/div[2]/a/time\"}\n  (Session info: chrome=95.0.4638.69)\nStacktrace:\nBacktrace:\n\tOrdinal0 [0x006106F3+2492147]\n\tOrdinal0 [0x005A9BD1+2071505]\n\tOrdinal0 [0x004B2478+1057912]\n\tOrdinal0 [0x004DC964+1231204]\n\tOrdinal0 [0x00506B62+1403746]\n\tOrdinal0 [0x004F57FA+1333242]\n\tOrdinal0 [0x00504F38+1396536]\n\tOrdinal0 [0x004F568B+1332875]\n\tOrdinal0 [0x004D21D4+1188308]\n\tOrdinal0 [0x004D302F+1191983]\n\tGetHandleVerifier [0x007967A6+1545030]\n\tGetHandleVerifier [0x0084105C+2243580]\n\tGetHandleVerifier [0x0069BC97+518199]\n\tGetHandleVerifier [0x0069AD80+514336]\n\tOrdinal0 [0x005AED2D+2092333]\n\tOrdinal0 [0x005B2EE8+2109160]\n\tOrdinal0 [0x005B3022+2109474]\n\tOrdinal0 [0x005BCB71+2149233]\n\tBaseThreadInitThunk [0x75E26359+25]\n\tRtlGetAppContainerNamedObjectPath [0x77E187A4+228]\n\tRtlGetAppContainerNamedObjectPath [0x77E18774+180]\n"
     ]
    }
   ],
   "source": [
    "# data lists\n",
    "cnt = []               #Content_Counter \n",
    "content_links = []     #Content_Link \n",
    "user_ids = []          \n",
    "location_infos = []\n",
    "location_hrefs = []\n",
    "main_texts = []\n",
    "tags= []\n",
    "likes = []\n",
    "who_likes = []\n",
    "date_texts = []\n",
    "date_times = []\n",
    "date_titles = []\n",
    "\n",
    "tag_lists = []\n",
    "img_list = []\n",
    "\n",
    "\n",
    "# path 설정\n",
    "user_id_path = 'e1e1d'\n",
    "location_class = 'O4GlU'\n",
    "main_text_path = 'C4VMK'\n",
    "tags_class_name = ' xil3i'\n",
    "likes_path = 'zV_Nj'\n",
    "date_path = '_1o9PC.Nzb55'\n",
    "next_path = '_65Bje.coreSpriteRightPaginationArrow'\n",
    "\n",
    "\n",
    "wish_num = 700# 스크랩할 게시물 개수 설정 \n",
    "num = 0\n",
    "\n",
    "\n",
    "for num in tqdm(range(wish_num)):\n",
    "\n",
    "    # sequence\n",
    "    cnt.append(num)\n",
    "\n",
    "    # 글 링크\n",
    "    try:\n",
    "        time.sleep(1)\n",
    "        content_link = driver.find_element_by_class_name('zV_Nj').get_attribute('href')\n",
    "        content_links.append(content_link)\n",
    "    except:\n",
    "        content_links.append(\"NULL\")\n",
    "\n",
    "    # user ID\n",
    "    try :\n",
    "        user_id_obj = driver.find_element_by_class_name(user_id_path)\n",
    "        user_id = user_id_obj.text\n",
    "\n",
    "        user_ids.append(user_id)\n",
    "\n",
    "    except :\n",
    "        user_ids.append(\"NULL\")\n",
    "\n",
    "\n",
    "    # 위치정보\n",
    "    try :\n",
    "        location_obj = driver.find_element_by_class_name(location_class)\n",
    "        location_text = location_obj.text\n",
    "        location_href = location_obj.get_attribute(\"href\")\n",
    "\n",
    "        location_infos.append(location_text)\n",
    "        location_hrefs.append(location_href)\n",
    "    except :\n",
    "        location_infos.append(\"NULL\")\n",
    "        location_hrefs.append(\"NULL\")\n",
    "\n",
    "\n",
    "    # 이미지 링크 \n",
    "    try:\n",
    "        time.sleep(2)\n",
    "        html = driver.page_source\n",
    "        soup = BeautifulSoup(html)\n",
    "        instagram = soup.select('.v1Nh3.kIKUG._bz0w')\n",
    "        img_url = instagram[num].select_one('.KL4Bh').img['src']\n",
    "        img_list.append(img_url)\n",
    "        \n",
    "\n",
    "    except:\n",
    "        img_list.append(\"NULL\")\n",
    "        \n",
    "\n",
    "    # 본문\n",
    "    try :\n",
    "        main_text_obj = driver.find_element_by_class_name(main_text_path)\n",
    "        main_text = main_text_obj.text\n",
    "        clean_text = main_text.replace(\"\\n\",\" \")\n",
    "        #comments = driver.find_element_by_class_name('Mr508 ').text.replace('\\n',' ')\n",
    "\n",
    "        main_texts.append(clean_text)\n",
    "\n",
    "    except :\n",
    "        main_texts.append(\"NULL\")\n",
    "\n",
    "    # 해쉬태그\n",
    "    try:\n",
    "        tag_list = []\n",
    "        tags = driver.find_elements_by_class_name('xil3i')\n",
    "        for i in range(len(tags)):\n",
    "            tag = tags[i].text.replace('#', '')\n",
    "            tag_list.append(tag)\n",
    "        tag_lists.append(tag_list)\n",
    "    except:\n",
    "        tag_list.append(\"NULL\")\n",
    "\n",
    "    # 좋아요 개수\n",
    "    try :\n",
    "        time.sleep(2)\n",
    "        like = driver.find_element_by_xpath('/html/body/div[6]/div[2]/div/article/div/div[2]/div/div/div[2]/section[2]/div/div/a/span')\n",
    "    \n",
    "        likee = like.text\n",
    "        likes.append(likee)\n",
    "    except :\n",
    "        likes.append(None)\n",
    "\n",
    "\n",
    "    # 날짜\n",
    "    #try :\n",
    "    date_obj = driver.find_element_by_xpath('/html/body/div[6]/div[2]/div/article/div/div[2]/div/div/div[2]/div[2]/a/time')\n",
    "    \n",
    "    date_text = date_obj.get_attribute(\"title\")\n",
    "        \n",
    "    date_texts.append(date_text)\n",
    "        #date_time = date_obj.get_attribute(\"datetime\")\n",
    "        #date_title = date_obj.get_attribute(\"title\") # 2021년 7월 14일\n",
    "        \n",
    "        #date_times.append(date_time)\n",
    "        #date_titles.append(date_title)\n",
    "   # except :\n",
    "        #date_texts.append(\"NULL\")\n",
    "        #date_times.append(\"NULL\")\n",
    "        #date_titles.append(\"NULL\")\n",
    "\n",
    "\n",
    "    print(\" \")\n",
    "    print(f\"-----{num}-----\")\n",
    "    print(\"ID: \", user_ids[num])\n",
    "    print(\"위치정보: \", location_infos[num])\n",
    "    print(\"내용: \", main_texts[num])\n",
    "    print(\"날짜: \", date_texts[num])\n",
    "    print(\" 좋아요개수 :\",likes[num])\n",
    "    print(\"   \")\n",
    "\n",
    "\n",
    "    # 다음 페이지 여부 확인\n",
    "    try:\n",
    "        next_level = driver.find_element_by_class_name('l8mY4 ')\n",
    "        next_level.click()\n",
    "        print('clicked')\n",
    "        num += 1\n",
    "    except:\n",
    "        break\n",
    "        \n"
   ]
  },
  {
   "cell_type": "code",
   "execution_count": null,
   "id": "04a9a63f",
   "metadata": {},
   "outputs": [],
   "source": [
    "len(date_titles)"
   ]
  },
  {
   "cell_type": "code",
   "execution_count": null,
   "id": "1f7d621f",
   "metadata": {},
   "outputs": [],
   "source": [
    "instagram_df=pd.DataFrame(\n",
    "    {\n",
    "        \"cnt\": cnt,\n",
    "        \"link\":content_links,\n",
    "        \"id\": user_ids\n",
    "        , \"location_info\": location_infos\n",
    "        , \"location_href\": location_hrefs\n",
    "        , \"main_text\": main_texts\n",
    "        , \"hastag\" : tag_lists\n",
    "        , \"like\": likes\n",
    "        #, \"date_time\": date_times\n",
    "        , \"date_title\": date_texts\n",
    "    }\n",
    ")"
   ]
  },
  {
   "cell_type": "code",
   "execution_count": null,
   "id": "6ac13b39",
   "metadata": {},
   "outputs": [],
   "source": [
    "# dfdf = pd.concat([instagram_df_1, instagram_df_2] , axis=0)\n",
    "\n",
    "# instagram_df_ok = pd.concat([dfdf, instagram_df_3], axis=0)"
   ]
  },
  {
   "cell_type": "code",
   "execution_count": null,
   "id": "105da311",
   "metadata": {},
   "outputs": [],
   "source": [
    "instagram_df.all()"
   ]
  },
  {
   "cell_type": "code",
   "execution_count": null,
   "id": "cc9d301e",
   "metadata": {},
   "outputs": [],
   "source": [
    "#instagram_df.to_csv('./instagram_seoul_1102.csv', index=False)"
   ]
  },
  {
   "cell_type": "code",
   "execution_count": null,
   "id": "f5fc5db7",
   "metadata": {},
   "outputs": [],
   "source": []
  },
  {
   "cell_type": "code",
   "execution_count": null,
   "id": "c523c64d",
   "metadata": {},
   "outputs": [],
   "source": []
  },
  {
   "cell_type": "markdown",
   "id": "55551f48",
   "metadata": {},
   "source": [
    "#### 좋아요 목록의 유저 링크 가져오기"
   ]
  },
  {
   "cell_type": "code",
   "execution_count": null,
   "id": "770ccc75",
   "metadata": {
    "scrolled": true
   },
   "outputs": [],
   "source": [
    "###### 0831 완셩\n",
    "\n",
    "def get_likers():\n",
    "    real_list = []\n",
    "\n",
    "    for num in tqdm(range(len(content_links))): # 컨텐츠 링크를 읽어들여 그 수만큼 반복\n",
    "\n",
    "        url = content_links[num]\n",
    "        driver.get(url)\n",
    "\n",
    "        like_obj = driver.find_element_by_class_name('zV_Nj').text[4:-1].replace(',','') # 좋아요 수 구하기 \n",
    "        print('좋아요: ',like_obj)\n",
    "    #     like_float = float(like_obj)\n",
    "    #     like = int(like_obj)\n",
    "\n",
    "        time.sleep(1)\n",
    "        driver.find_element_by_class_name('zV_Nj').click() # 좋아요 클릭 \n",
    "        time.sleep(3)\n",
    "\n",
    "        likers_list = []\n",
    "        likers_dic = {}\n",
    "\n",
    "        likers = driver.find_elements_by_class_name('FPmhX.notranslate.MBL3Z') \n",
    "        for j in tqdm(range(len(likers))):\n",
    "            likerss = driver.find_elements_by_class_name('FPmhX.notranslate.MBL3Z')\n",
    "            time.sleep(3)\n",
    "\n",
    "            print(likerss[j].text)\n",
    "            link_info = likerss[j].get_attribute('href') # 링크\n",
    "\n",
    "            likers_list.append(link_info)\n",
    "            likers_dic = likers_list\n",
    "\n",
    "\n",
    "\n",
    "            j += 1\n",
    "\n",
    "            if j % 6 == 0 :\n",
    "\n",
    "                 # 페이지 다운\n",
    "                endOfPage = driver.find_element_by_css_selector('body > div.RnEpo.Yx5HN > div > div').find_elements_by_tag_name('a')[-1]\n",
    "                endOfPage.send_keys(Keys.PAGE_DOWN)\n",
    "                time.sleep(3)\n",
    "                continue\n",
    "\n",
    "        real_list.append(likers_dic)\n",
    "\n",
    "\n",
    "        num += 1\n",
    "        \n",
    "    like_df = pd.DataFrame(\n",
    "        {\n",
    "        \"content_link\":content_links,\n",
    "        \"likers\":real_list\n",
    "        }\n",
    "    )\n",
    "\n",
    "    like_df.to_csv('./liker_vanlialatte')"
   ]
  },
  {
   "cell_type": "code",
   "execution_count": null,
   "id": "03d0105f",
   "metadata": {},
   "outputs": [],
   "source": [
    "# 각 유저의 프로필 정보 -> id가 있는 경우 \n",
    "\n",
    "followers_count = []\n",
    "gesimul_count =[]\n",
    "sogaes = []\n",
    "\n",
    "    \n",
    "def get_profile(user_ids):\n",
    "\n",
    "    \n",
    "    i = 0\n",
    "    for i in range(len(user_ids)):\n",
    "        user_profile = 'https://www.instagram.com/{}/'.format(user_ids[i])\n",
    "        driver.get(user_profile)\n",
    "\n",
    "        try: \n",
    "\n",
    "            gesimul = int(driver.find_element_by_class_name('g47SY ').text.replace(',',''))\n",
    "\n",
    "            followers = \\\n",
    "            int(driver.find_element_by_css_selector('#react-root > section > main > div > header > section > ul > li:nth-child(2) > a > span').get_attribute(\"title\").replace(',',''))\n",
    "\n",
    "            sogae = driver.find_element_by_class_name('-vDIg').text.replace('\\n',' ')\n",
    "        #     profiles.append(user_ids[i])\n",
    "            gesimul_count.append(gesimul)\n",
    "            followers_count.append(followers)\n",
    "            sogaes.append(sogae)\n",
    "            \n",
    "            print(\"ID: \", user_ids[i])\n",
    "            print(\"게시물: \",gesimul)\n",
    "            print(\"팔로워: \",followers)\n",
    "            print(\"소개: \",sogae)\n",
    "            print(\" \")\n",
    "\n",
    "            i += 1\n",
    "        except :\n",
    "            followers_count.append(\"NaN\")\n",
    "            gesimul_count.append(\"NaN\")\n",
    "            sogaes.append(\"NaN\")\n",
    "            \n",
    "        \n"
   ]
  },
  {
   "cell_type": "code",
   "execution_count": null,
   "id": "be976d17",
   "metadata": {},
   "outputs": [],
   "source": [
    "get_profile(user_ids)"
   ]
  },
  {
   "cell_type": "code",
   "execution_count": null,
   "id": "b3becdfd",
   "metadata": {},
   "outputs": [],
   "source": [
    "print(len(user_ids))\n",
    "print(len(location_infos))\n",
    "print(len(location_hrefs))\n",
    "print(len(main_texts))\n",
    "print(len(tags))\n",
    "print(len(likes))\n",
    "print(len(date_texts))\n",
    "print(len(date_times))\n",
    "print(len(date_titles))"
   ]
  },
  {
   "cell_type": "markdown",
   "id": "f5535760",
   "metadata": {},
   "source": [
    "### DataFrame"
   ]
  },
  {
   "cell_type": "code",
   "execution_count": null,
   "id": "c15205ca",
   "metadata": {
    "scrolled": true
   },
   "outputs": [],
   "source": [
    "instagram_df = pd.DataFrame(\n",
    "    {\n",
    "         \"id\" : user_ids\n",
    "        ,\"location_info\" : location_infos\n",
    "        ,\"location_href\" : location_hrefs\n",
    "        ,\"main_text\" : main_texts\n",
    "        ,\"hastag\" : tag_lists\n",
    "        ,\"like\" : likes\n",
    "       ,\"date_text\" : date_texts\n",
    "        #,\"date_time\" : date_times\n",
    "       #,\"date_title\" : date_titles\n",
    "    }\n",
    ")"
   ]
  },
  {
   "cell_type": "code",
   "execution_count": null,
   "id": "e9d5ac75",
   "metadata": {},
   "outputs": [],
   "source": [
    "user_df = pd.DataFrame(\n",
    "    {\n",
    "          \"user_id\": user_ids\n",
    "        , \"Posts\": gesimul_count\n",
    "        , \"Followers\": followers_count\n",
    "        , \"user_profile\" : sogaes\n",
    "    }\n",
    ")"
   ]
  },
  {
   "cell_type": "code",
   "execution_count": null,
   "id": "d5124bf9",
   "metadata": {},
   "outputs": [],
   "source": [
    "user_df.drop_duplicates(inplace=True)"
   ]
  },
  {
   "cell_type": "code",
   "execution_count": null,
   "id": "0b3abcdc",
   "metadata": {},
   "outputs": [],
   "source": [
    "user_df.head()"
   ]
  },
  {
   "cell_type": "code",
   "execution_count": null,
   "id": "a18ee067",
   "metadata": {},
   "outputs": [],
   "source": []
  },
  {
   "cell_type": "code",
   "execution_count": null,
   "id": "107e29fa",
   "metadata": {},
   "outputs": [],
   "source": [
    "instagram_df.head(10)"
   ]
  },
  {
   "cell_type": "markdown",
   "id": "52b361a0",
   "metadata": {},
   "source": [
    "### Concat"
   ]
  },
  {
   "cell_type": "code",
   "execution_count": null,
   "id": "c1d7b97d",
   "metadata": {},
   "outputs": [],
   "source": [
    "result = pd.concat([instagram_df,user_df], axis=1)\n",
    "result"
   ]
  },
  {
   "cell_type": "code",
   "execution_count": null,
   "id": "f71b5eb2",
   "metadata": {},
   "outputs": [],
   "source": []
  },
  {
   "cell_type": "markdown",
   "id": "760af4c4",
   "metadata": {},
   "source": [
    "## To_csv"
   ]
  },
  {
   "cell_type": "code",
   "execution_count": null,
   "id": "1f39bfab",
   "metadata": {},
   "outputs": [],
   "source": [
    "file_name = 'instagrame_1110_김천호텔(700)' ##### 파일명\n",
    "file_path = 'C:/Users/seoyeonho/Desktop/ERC_LAB/김천호텔_/' ### 저장할 경로 "
   ]
  },
  {
   "cell_type": "code",
   "execution_count": null,
   "id": "e351060f",
   "metadata": {},
   "outputs": [],
   "source": [
    "result.to_csv('{}{}.csv'.format(file_path,file_name), index=False, encoding='utf-8')"
   ]
  },
  {
   "cell_type": "code",
   "execution_count": null,
   "id": "9f538bcb",
   "metadata": {},
   "outputs": [],
   "source": []
  },
  {
   "cell_type": "code",
   "execution_count": null,
   "id": "9fc69d3e",
   "metadata": {},
   "outputs": [],
   "source": []
  },
  {
   "cell_type": "markdown",
   "id": "27f4072e",
   "metadata": {},
   "source": [
    "### Read"
   ]
  },
  {
   "cell_type": "code",
   "execution_count": null,
   "id": "f7ef913a",
   "metadata": {},
   "outputs": [],
   "source": [
    "pd.read_csv('{}{}.csv'.format(file_path,file_name))"
   ]
  },
  {
   "cell_type": "code",
   "execution_count": null,
   "id": "911ce370",
   "metadata": {},
   "outputs": [],
   "source": [
    "                                                      "
   ]
  },
  {
   "cell_type": "code",
   "execution_count": null,
   "id": "4251ffd4",
   "metadata": {},
   "outputs": [],
   "source": [
    "instagram_df.to_csv('{}'.format(\"0908.csv\"), index=False, encoding='utf-8')"
   ]
  },
  {
   "cell_type": "code",
   "execution_count": null,
   "id": "92a69ddb",
   "metadata": {},
   "outputs": [],
   "source": [
    "instagram_df"
   ]
  },
  {
   "cell_type": "code",
   "execution_count": null,
   "id": "caefcdd6",
   "metadata": {},
   "outputs": [],
   "source": []
  }
 ],
 "metadata": {
  "kernelspec": {
   "display_name": "Python 3",
   "language": "python",
   "name": "python3"
  },
  "language_info": {
   "codemirror_mode": {
    "name": "ipython",
    "version": 3
   },
   "file_extension": ".py",
   "mimetype": "text/x-python",
   "name": "python",
   "nbconvert_exporter": "python",
   "pygments_lexer": "ipython3",
   "version": "3.8.8"
  }
 },
 "nbformat": 4,
 "nbformat_minor": 5
}
