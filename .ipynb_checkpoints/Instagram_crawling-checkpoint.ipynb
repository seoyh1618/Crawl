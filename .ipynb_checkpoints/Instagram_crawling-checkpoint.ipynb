{
 "cells": [
  {
   "cell_type": "markdown",
   "id": "f30b8ec3",
   "metadata": {},
   "source": [
    "##### 2021/07\n",
    "###### author : 손해원\n",
    "\n",
    "- 인스타그램에 키워드를 검색하여 게시글의 정보를 크롤링하는 코드입니다. "
   ]
  },
  {
   "cell_type": "code",
   "execution_count": 1,
   "id": "cb090225",
   "metadata": {},
   "outputs": [],
   "source": [
    "from selenium import webdriver\n",
    "import time\n",
    "import re\n",
    "import json\n",
    "import pandas as pd\n",
    "from selenium.webdriver.common.keys import Keys\n",
    "from selenium.webdriver.support.ui import WebDriverWait \n",
    "from selenium.webdriver.support import expected_conditions as EC\n",
    "from tqdm import tqdm\n",
    "import os\n",
    "import multiprocessing"
   ]
  },
  {
   "cell_type": "markdown",
   "id": "efb7324c",
   "metadata": {},
   "source": [
    "### Load Chromedriver & Log In"
   ]
  },
  {
   "cell_type": "code",
   "execution_count": 2,
   "id": "d235b9b0",
   "metadata": {},
   "outputs": [],
   "source": [
    "my_id = 'yeonhhhhh5'   ### ID \n",
    "my_pw = '@aa1149118'   ### PASSWORD\n",
    "driver_path = 'C:\\dev_python\\Webdriver\\chromedriver'\n",
    "instagram ='https://www.instagram.com'\n",
    "# id/pw 입력 -> 로그인 정보 저장 여부 -> 피드"
   ]
  },
  {
   "cell_type": "code",
   "execution_count": 3,
   "id": "15833e38",
   "metadata": {
    "scrolled": true
   },
   "outputs": [
    {
     "name": "stderr",
     "output_type": "stream",
     "text": [
      "<ipython-input-3-2328cdddebf4>:1: DeprecationWarning: executable_path has been deprecated, please pass in a Service object\n",
      "  driver = webdriver.Chrome(driver_path)\n"
     ]
    }
   ],
   "source": [
    "driver = webdriver.Chrome(driver_path)\n",
    "driver.get(instagram)"
   ]
  },
  {
   "cell_type": "code",
   "execution_count": 4,
   "id": "c8b43bc1",
   "metadata": {},
   "outputs": [
    {
     "name": "stderr",
     "output_type": "stream",
     "text": [
      "<ipython-input-4-26b57dbbb05f>:2: DeprecationWarning: find_element_by_* commands are deprecated. Please use find_element() instead\n",
      "  id_ = driver.find_element_by_css_selector('#loginForm > div > div:nth-child(1) > div > label > input') # id\n",
      "<ipython-input-4-26b57dbbb05f>:4: DeprecationWarning: find_element_by_* commands are deprecated. Please use find_element() instead\n",
      "  pw_ = driver.find_element_by_xpath('//*[@id=\"loginForm\"]/div/div[2]/div/label/input') # pw\n",
      "<ipython-input-4-26b57dbbb05f>:6: DeprecationWarning: find_element_by_* commands are deprecated. Please use find_element() instead\n",
      "  driver.find_element_by_css_selector('#loginForm > div > div:nth-child(3)').click() # 로그인\n"
     ]
    }
   ],
   "source": [
    "time.sleep(2)\n",
    "id_ = driver.find_element_by_css_selector('#loginForm > div > div:nth-child(1) > div > label > input') # id\n",
    "id_.send_keys(my_id)\n",
    "pw_ = driver.find_element_by_xpath('//*[@id=\"loginForm\"]/div/div[2]/div/label/input') # pw\n",
    "pw_.send_keys(my_pw)\n",
    "driver.find_element_by_css_selector('#loginForm > div > div:nth-child(3)').click() # 로그인\n"
   ]
  },
  {
   "cell_type": "code",
   "execution_count": 5,
   "id": "49bc9a37",
   "metadata": {
    "scrolled": true
   },
   "outputs": [
    {
     "name": "stderr",
     "output_type": "stream",
     "text": [
      "<ipython-input-5-31d05c215dbb>:2: DeprecationWarning: find_element_by_* commands are deprecated. Please use find_element() instead\n",
      "  driver.find_element_by_class_name('sqdOP.yWX7d.y3zKF').click() # 정보 저장 안함\n",
      "<ipython-input-5-31d05c215dbb>:7: DeprecationWarning: find_element_by_* commands are deprecated. Please use find_element() instead\n",
      "  driver.find_element_by_css_selector('body > div.RnEpo.Yx5HN > div > div > div > div.mt3GC > button.aOOlW.HoLwm').click()\n"
     ]
    }
   ],
   "source": [
    "time.sleep(3)\n",
    "driver.find_element_by_class_name('sqdOP.yWX7d.y3zKF').click() # 정보 저장 안함\n",
    "    \n",
    "driver.wait = driver.implicitly_wait(10)\n",
    "\n",
    "# 알림 설정 나중에 \n",
    "driver.find_element_by_css_selector('body > div.RnEpo.Yx5HN > div > div > div > div.mt3GC > button.aOOlW.HoLwm').click()\n",
    "    "
   ]
  },
  {
   "cell_type": "raw",
   "id": "e341a019",
   "metadata": {},
   "source": [
    "### 검색"
   ]
  },
  {
   "cell_type": "code",
   "execution_count": 6,
   "id": "1f3e4a31",
   "metadata": {},
   "outputs": [],
   "source": [
    "query = '김천숙박'   ######################## 검색할 내용 입력\n",
    "\n",
    "try:\n",
    "    url = 'https://www.instagram.com/explore/tags/{}/'.format(query)\n",
    "    driver.get(url)\n",
    "except :\n",
    "    time.sleep(3)\n",
    "    driver.get(url) \n",
    "    \n",
    "driver.maximize_window()"
   ]
  },
  {
   "cell_type": "code",
   "execution_count": 7,
   "id": "6a65097a",
   "metadata": {},
   "outputs": [
    {
     "name": "stderr",
     "output_type": "stream",
     "text": [
      "<ipython-input-7-0c229527d784>:3: DeprecationWarning: find_element_by_* commands are deprecated. Please use find_element() instead\n",
      "  driver.find_element_by_class_name(first_img).click()\n"
     ]
    }
   ],
   "source": [
    "# 첫번째 게시물 클릭\n",
    "first_img = '_9AhH0'\n",
    "driver.find_element_by_class_name(first_img).click()"
   ]
  },
  {
   "cell_type": "markdown",
   "id": "f9d96c21",
   "metadata": {},
   "source": [
    "### 게시물 스크랩"
   ]
  },
  {
   "cell_type": "code",
   "execution_count": 8,
   "id": "a4279334",
   "metadata": {},
   "outputs": [],
   "source": [
    "from urllib.request import urlopen\n",
    "from urllib.parse import quote_plus\n",
    "from bs4 import BeautifulSoup\n",
    "import requests\n",
    "import shutil"
   ]
  },
  {
   "cell_type": "code",
   "execution_count": null,
   "id": "630f3766",
   "metadata": {},
   "outputs": [
    {
     "name": "stderr",
     "output_type": "stream",
     "text": [
      "  0%|                                                                                           | 0/70 [00:00<?, ?it/s]<ipython-input-9-c2e964e87a65>:41: DeprecationWarning: find_element_by_* commands are deprecated. Please use find_element() instead\n",
      "  content_link = driver.find_element_by_class_name('zV_Nj').get_attribute('href')\n",
      "<ipython-input-9-c2e964e87a65>:48: DeprecationWarning: find_element_by_* commands are deprecated. Please use find_element() instead\n",
      "  user_id_obj = driver.find_element_by_class_name(user_id_path)\n",
      "<ipython-input-9-c2e964e87a65>:59: DeprecationWarning: find_element_by_* commands are deprecated. Please use find_element() instead\n",
      "  location_obj = driver.find_element_by_class_name(location_class)\n",
      "<ipython-input-9-c2e964e87a65>:86: DeprecationWarning: find_element_by_* commands are deprecated. Please use find_element() instead\n",
      "  main_text_obj = driver.find_element_by_class_name(main_text_path)\n",
      "<ipython-input-9-c2e964e87a65>:99: DeprecationWarning: find_elements_by_* commands are deprecated. Please use find_elements() instead\n",
      "  tags = driver.find_elements_by_class_name('xil3i')\n",
      "<ipython-input-9-c2e964e87a65>:110: DeprecationWarning: find_element_by_* commands are deprecated. Please use find_element() instead\n",
      "  like = driver.find_element_by_xpath('/html/body/div[6]/div[2]/div/article/div/div[2]/div/div/div[2]/section[2]/div/div/a/span')\n",
      "<ipython-input-9-c2e964e87a65>:120: DeprecationWarning: find_element_by_* commands are deprecated. Please use find_element() instead\n",
      "  date_obj = driver.find_element_by_xpath('/html/body/div[6]/div[2]/div/article/div/div[2]/div/div/div[2]/div[2]/a/time')\n",
      "<ipython-input-9-c2e964e87a65>:148: DeprecationWarning: find_element_by_* commands are deprecated. Please use find_element() instead\n",
      "  next_level = driver.find_element_by_class_name('l8mY4 ')\n",
      "  1%|█▏                                                                                 | 1/70 [00:06<07:36,  6.62s/it]"
     ]
    },
    {
     "name": "stdout",
     "output_type": "stream",
     "text": [
      " \n",
      "-----0-----\n",
      "ID:  solchan_i\n",
      "위치정보:  Gimcheon\n",
      "내용:  solchan_i 🏡 오늘의 손님 맞이, 편안한 쉼_이 되시길🎀 . . #에어비앤비 #솔과밤 #김천여행 #김천숙소 #김천숙박 #팜스테이 6일\n",
      "날짜:  2021년 11월 5일\n",
      " 좋아요개수 : 55\n",
      "   \n",
      "clicked\n"
     ]
    },
    {
     "name": "stderr",
     "output_type": "stream",
     "text": [
      "\r",
      "  3%|██▎                                                                                | 2/70 [00:22<13:56, 12.30s/it]"
     ]
    },
    {
     "name": "stdout",
     "output_type": "stream",
     "text": [
      " \n",
      "-----1-----\n",
      "ID:  seoul_sup\n",
      "위치정보:  NULL\n",
      "내용:  seoul_sup #김천무인텔 #김천호텔 #김천숙소 #김천숙박 #김천모텔 #김천아포모텔 #김천아포무인텔 #시크릿비지니스모텔 73주\n",
      "날짜:  2020년 6월 12일\n",
      " 좋아요개수 : 9\n",
      "   \n",
      "clicked\n"
     ]
    }
   ],
   "source": [
    "# data lists\n",
    "cnt = []               #Content_Counter \n",
    "content_links = []     #Content_Link \n",
    "user_ids = []          \n",
    "location_infos = []\n",
    "location_hrefs = []\n",
    "main_texts = []\n",
    "tags= []\n",
    "likes = []\n",
    "who_likes = []\n",
    "date_texts = []\n",
    "date_times = []\n",
    "date_titles = []\n",
    "\n",
    "tag_lists = []\n",
    "img_list = []\n",
    "\n",
    "\n",
    "# path 설정\n",
    "user_id_path = 'e1e1d'\n",
    "location_class = 'O4GlU'\n",
    "main_text_path = 'C4VMK'\n",
    "tags_class_name = ' xil3i'\n",
    "likes_path = 'zV_Nj'\n",
    "date_path = '_1o9PC.Nzb55'\n",
    "next_path = '_65Bje.coreSpriteRightPaginationArrow'\n",
    "\n",
    "\n",
    "wish_num = 70# 스크랩할 게시물 개수 설정 \n",
    "num = 0\n",
    "\n",
    "\n",
    "for num in tqdm(range(wish_num)):\n",
    "\n",
    "    # sequence\n",
    "    cnt.append(num)\n",
    "\n",
    "    # 글 링크\n",
    "    try:\n",
    "        time.sleep(1)\n",
    "        content_link = driver.find_element_by_class_name('zV_Nj').get_attribute('href')\n",
    "        content_links.append(content_link)\n",
    "    except:\n",
    "        content_links.append(\"NULL\")\n",
    "\n",
    "    # user ID\n",
    "    try :\n",
    "        user_id_obj = driver.find_element_by_class_name(user_id_path)\n",
    "        user_id = user_id_obj.text\n",
    "\n",
    "        user_ids.append(user_id)\n",
    "\n",
    "    except :\n",
    "        user_ids.append(\"NULL\")\n",
    "\n",
    "\n",
    "    # 위치정보\n",
    "    try :\n",
    "        location_obj = driver.find_element_by_class_name(location_class)\n",
    "        location_text = location_obj.text\n",
    "        location_href = location_obj.get_attribute(\"href\")\n",
    "\n",
    "        location_infos.append(location_text)\n",
    "        location_hrefs.append(location_href)\n",
    "    except :\n",
    "        location_infos.append(\"NULL\")\n",
    "        location_hrefs.append(\"NULL\")\n",
    "\n",
    "\n",
    "    # 이미지 링크 \n",
    "    try:\n",
    "        time.sleep(2)\n",
    "        html = driver.page_source\n",
    "        soup = BeautifulSoup(html)\n",
    "        instagram = soup.select('.v1Nh3.kIKUG._bz0w')\n",
    "        img_url = instagram[num].select_one('.KL4Bh').img['src']\n",
    "        img_list.append(img_url)\n",
    "        \n",
    "\n",
    "    except:\n",
    "        img_list.append(\"NULL\")\n",
    "        \n",
    "\n",
    "    # 본문\n",
    "    try :\n",
    "        main_text_obj = driver.find_element_by_class_name(main_text_path)\n",
    "        main_text = main_text_obj.text\n",
    "        clean_text = main_text.replace(\"\\n\",\" \")\n",
    "        #comments = driver.find_element_by_class_name('Mr508 ').text.replace('\\n',' ')\n",
    "\n",
    "        main_texts.append(clean_text)\n",
    "\n",
    "    except :\n",
    "        main_texts.append(\"NULL\")\n",
    "\n",
    "    # 해쉬태그\n",
    "    try:\n",
    "        tag_list = []\n",
    "        tags = driver.find_elements_by_class_name('xil3i')\n",
    "        for i in range(len(tags)):\n",
    "            tag = tags[i].text.replace('#', '')\n",
    "            tag_list.append(tag)\n",
    "        tag_lists.append(tag_list)\n",
    "    except:\n",
    "        tag_list.append(\"NULL\")\n",
    "\n",
    "    # 좋아요 개수\n",
    "    try :\n",
    "        time.sleep(2)\n",
    "        like = driver.find_element_by_xpath('/html/body/div[6]/div[2]/div/article/div/div[2]/div/div/div[2]/section[2]/div/div/a/span')\n",
    "    \n",
    "        likee = like.text\n",
    "        likes.append(likee)\n",
    "    except :\n",
    "        likes.append(None)\n",
    "\n",
    "\n",
    "    # 날짜\n",
    "    #try :\n",
    "    date_obj = driver.find_element_by_xpath('/html/body/div[6]/div[2]/div/article/div/div[2]/div/div/div[2]/div[2]/a/time')\n",
    "    \n",
    "    date_text = date_obj.get_attribute(\"title\")\n",
    "        \n",
    "    date_texts.append(date_text)\n",
    "        #date_time = date_obj.get_attribute(\"datetime\")\n",
    "        #date_title = date_obj.get_attribute(\"title\") # 2021년 7월 14일\n",
    "        \n",
    "        #date_times.append(date_time)\n",
    "        #date_titles.append(date_title)\n",
    "   # except :\n",
    "        #date_texts.append(\"NULL\")\n",
    "        #date_times.append(\"NULL\")\n",
    "        #date_titles.append(\"NULL\")\n",
    "\n",
    "\n",
    "    print(\" \")\n",
    "    print(f\"-----{num}-----\")\n",
    "    print(\"ID: \", user_ids[num])\n",
    "    print(\"위치정보: \", location_infos[num])\n",
    "    print(\"내용: \", main_texts[num])\n",
    "    print(\"날짜: \", date_texts[num])\n",
    "    print(\" 좋아요개수 :\",likes[num])\n",
    "    print(\"   \")\n",
    "\n",
    "\n",
    "    # 다음 페이지 여부 확인\n",
    "    try:\n",
    "        next_level = driver.find_element_by_class_name('l8mY4 ')\n",
    "        next_level.click()\n",
    "        print('clicked')\n",
    "        num += 1\n",
    "    except:\n",
    "        break\n",
    "        \n"
   ]
  },
  {
   "cell_type": "code",
   "execution_count": null,
   "id": "04a9a63f",
   "metadata": {},
   "outputs": [],
   "source": [
    "len(date_titles)"
   ]
  },
  {
   "cell_type": "code",
   "execution_count": null,
   "id": "1f7d621f",
   "metadata": {},
   "outputs": [],
   "source": [
    "instagram_df=pd.DataFrame(\n",
    "    {\n",
    "        \"cnt\": cnt,\n",
    "        \"link\":content_links,\n",
    "        \"id\": user_ids\n",
    "        , \"location_info\": location_infos\n",
    "        , \"location_href\": location_hrefs\n",
    "        , \"main_text\": main_texts\n",
    "        , \"hastag\" : tag_lists\n",
    "        , \"like\": likes\n",
    "        #, \"date_time\": date_times\n",
    "        , \"date_title\": date_texts\n",
    "    }\n",
    ")"
   ]
  },
  {
   "cell_type": "code",
   "execution_count": null,
   "id": "6ac13b39",
   "metadata": {},
   "outputs": [],
   "source": [
    "# dfdf = pd.concat([instagram_df_1, instagram_df_2] , axis=0)\n",
    "\n",
    "# instagram_df_ok = pd.concat([dfdf, instagram_df_3], axis=0)"
   ]
  },
  {
   "cell_type": "code",
   "execution_count": null,
   "id": "105da311",
   "metadata": {},
   "outputs": [],
   "source": [
    "instagram_df.all()"
   ]
  },
  {
   "cell_type": "code",
   "execution_count": null,
   "id": "cc9d301e",
   "metadata": {},
   "outputs": [],
   "source": [
    "#instagram_df.to_csv('./instagram_seoul_1102.csv', index=False)"
   ]
  },
  {
   "cell_type": "code",
   "execution_count": null,
   "id": "f5fc5db7",
   "metadata": {},
   "outputs": [],
   "source": []
  },
  {
   "cell_type": "code",
   "execution_count": null,
   "id": "c523c64d",
   "metadata": {},
   "outputs": [],
   "source": []
  },
  {
   "cell_type": "markdown",
   "id": "55551f48",
   "metadata": {},
   "source": [
    "#### 좋아요 목록의 유저 링크 가져오기"
   ]
  },
  {
   "cell_type": "code",
   "execution_count": null,
   "id": "770ccc75",
   "metadata": {
    "scrolled": true
   },
   "outputs": [],
   "source": [
    "###### 0831 완셩\n",
    "\n",
    "def get_likers():\n",
    "    real_list = []\n",
    "\n",
    "    for num in tqdm(range(len(content_links))): # 컨텐츠 링크를 읽어들여 그 수만큼 반복\n",
    "\n",
    "        url = content_links[num]\n",
    "        driver.get(url)\n",
    "\n",
    "        like_obj = driver.find_element_by_class_name('zV_Nj').text[4:-1].replace(',','') # 좋아요 수 구하기 \n",
    "        print('좋아요: ',like_obj)\n",
    "    #     like_float = float(like_obj)\n",
    "    #     like = int(like_obj)\n",
    "\n",
    "        time.sleep(1)\n",
    "        driver.find_element_by_class_name('zV_Nj').click() # 좋아요 클릭 \n",
    "        time.sleep(3)\n",
    "\n",
    "        likers_list = []\n",
    "        likers_dic = {}\n",
    "\n",
    "        likers = driver.find_elements_by_class_name('FPmhX.notranslate.MBL3Z') \n",
    "        for j in tqdm(range(len(likers))):\n",
    "            likerss = driver.find_elements_by_class_name('FPmhX.notranslate.MBL3Z')\n",
    "            time.sleep(3)\n",
    "\n",
    "            print(likerss[j].text)\n",
    "            link_info = likerss[j].get_attribute('href') # 링크\n",
    "\n",
    "            likers_list.append(link_info)\n",
    "            likers_dic = likers_list\n",
    "\n",
    "\n",
    "\n",
    "            j += 1\n",
    "\n",
    "            if j % 6 == 0 :\n",
    "\n",
    "                 # 페이지 다운\n",
    "                endOfPage = driver.find_element_by_css_selector('body > div.RnEpo.Yx5HN > div > div').find_elements_by_tag_name('a')[-1]\n",
    "                endOfPage.send_keys(Keys.PAGE_DOWN)\n",
    "                time.sleep(3)\n",
    "                continue\n",
    "\n",
    "        real_list.append(likers_dic)\n",
    "\n",
    "\n",
    "        num += 1\n",
    "        \n",
    "    like_df = pd.DataFrame(\n",
    "        {\n",
    "        \"content_link\":content_links,\n",
    "        \"likers\":real_list\n",
    "        }\n",
    "    )\n",
    "\n",
    "    like_df.to_csv('./liker_vanlialatte')"
   ]
  },
  {
   "cell_type": "code",
   "execution_count": null,
   "id": "03d0105f",
   "metadata": {},
   "outputs": [],
   "source": [
    "# 각 유저의 프로필 정보 -> id가 있는 경우 \n",
    "\n",
    "followers_count = []\n",
    "gesimul_count =[]\n",
    "sogaes = []\n",
    "\n",
    "    \n",
    "def get_profile(user_ids):\n",
    "\n",
    "    \n",
    "    i = 0\n",
    "    for i in range(len(user_ids)):\n",
    "        user_profile = 'https://www.instagram.com/{}/'.format(user_ids[i])\n",
    "        driver.get(user_profile)\n",
    "\n",
    "        try: \n",
    "\n",
    "            gesimul = int(driver.find_element_by_class_name('g47SY ').text.replace(',',''))\n",
    "\n",
    "            followers = \\\n",
    "            int(driver.find_element_by_css_selector('#react-root > section > main > div > header > section > ul > li:nth-child(2) > a > span').get_attribute(\"title\").replace(',',''))\n",
    "\n",
    "            sogae = driver.find_element_by_class_name('-vDIg').text.replace('\\n',' ')\n",
    "        #     profiles.append(user_ids[i])\n",
    "            gesimul_count.append(gesimul)\n",
    "            followers_count.append(followers)\n",
    "            sogaes.append(sogae)\n",
    "            \n",
    "            print(\"ID: \", user_ids[i])\n",
    "            print(\"게시물: \",gesimul)\n",
    "            print(\"팔로워: \",followers)\n",
    "            print(\"소개: \",sogae)\n",
    "            print(\" \")\n",
    "\n",
    "            i += 1\n",
    "        except :\n",
    "            followers_count.append(\"NaN\")\n",
    "            gesimul_count.append(\"NaN\")\n",
    "            sogaes.append(\"NaN\")\n",
    "            \n",
    "        \n"
   ]
  },
  {
   "cell_type": "code",
   "execution_count": null,
   "id": "be976d17",
   "metadata": {},
   "outputs": [],
   "source": [
    "get_profile(user_ids)"
   ]
  },
  {
   "cell_type": "code",
   "execution_count": null,
   "id": "b3becdfd",
   "metadata": {},
   "outputs": [],
   "source": [
    "print(len(user_ids))\n",
    "print(len(location_infos))\n",
    "print(len(location_hrefs))\n",
    "print(len(main_texts))\n",
    "print(len(tags))\n",
    "print(len(likes))\n",
    "print(len(date_texts))\n",
    "print(len(date_times))\n",
    "print(len(date_titles))"
   ]
  },
  {
   "cell_type": "markdown",
   "id": "f5535760",
   "metadata": {},
   "source": [
    "### DataFrame"
   ]
  },
  {
   "cell_type": "code",
   "execution_count": null,
   "id": "c15205ca",
   "metadata": {
    "scrolled": true
   },
   "outputs": [],
   "source": [
    "instagram_df = pd.DataFrame(\n",
    "    {\n",
    "         \"id\" : user_ids\n",
    "        ,\"location_info\" : location_infos\n",
    "        ,\"location_href\" : location_hrefs\n",
    "        ,\"main_text\" : main_texts\n",
    "        ,\"hastag\" : tag_lists\n",
    "        ,\"like\" : likes\n",
    "       ,\"date_text\" : date_texts\n",
    "        #,\"date_time\" : date_times\n",
    "       #,\"date_title\" : date_titles\n",
    "    }\n",
    ")"
   ]
  },
  {
   "cell_type": "code",
   "execution_count": null,
   "id": "e9d5ac75",
   "metadata": {},
   "outputs": [],
   "source": [
    "user_df = pd.DataFrame(\n",
    "    {\n",
    "          \"user_id\": user_ids\n",
    "        , \"Posts\": gesimul_count\n",
    "        , \"Followers\": followers_count\n",
    "        , \"user_profile\" : sogaes\n",
    "    }\n",
    ")"
   ]
  },
  {
   "cell_type": "code",
   "execution_count": null,
   "id": "d5124bf9",
   "metadata": {},
   "outputs": [],
   "source": [
    "user_df.drop_duplicates(inplace=True)"
   ]
  },
  {
   "cell_type": "code",
   "execution_count": null,
   "id": "0b3abcdc",
   "metadata": {},
   "outputs": [],
   "source": [
    "user_df.head()"
   ]
  },
  {
   "cell_type": "code",
   "execution_count": null,
   "id": "a18ee067",
   "metadata": {},
   "outputs": [],
   "source": []
  },
  {
   "cell_type": "code",
   "execution_count": null,
   "id": "107e29fa",
   "metadata": {},
   "outputs": [],
   "source": [
    "instagram_df.head(10)"
   ]
  },
  {
   "cell_type": "markdown",
   "id": "52b361a0",
   "metadata": {},
   "source": [
    "### Concat"
   ]
  },
  {
   "cell_type": "code",
   "execution_count": null,
   "id": "c1d7b97d",
   "metadata": {},
   "outputs": [],
   "source": [
    "result = pd.concat([instagram_df,user_df], axis=1)\n",
    "result"
   ]
  },
  {
   "cell_type": "code",
   "execution_count": null,
   "id": "f71b5eb2",
   "metadata": {},
   "outputs": [],
   "source": []
  },
  {
   "cell_type": "markdown",
   "id": "760af4c4",
   "metadata": {},
   "source": [
    "## To_csv"
   ]
  },
  {
   "cell_type": "code",
   "execution_count": null,
   "id": "1f39bfab",
   "metadata": {},
   "outputs": [],
   "source": [
    "file_name = 'instagrame_1110_김천숙박(30)' ##### 파일명\n",
    "file_path = 'C:/Users/seoyeonho/Desktop/Crawler_csv' ### 저장할 경로 "
   ]
  },
  {
   "cell_type": "code",
   "execution_count": null,
   "id": "e351060f",
   "metadata": {},
   "outputs": [],
   "source": [
    "result.to_csv('{}{}.csv'.format(file_path,file_name), index=False, encoding='utf-8')"
   ]
  },
  {
   "cell_type": "code",
   "execution_count": null,
   "id": "9f538bcb",
   "metadata": {},
   "outputs": [],
   "source": []
  },
  {
   "cell_type": "code",
   "execution_count": null,
   "id": "9fc69d3e",
   "metadata": {},
   "outputs": [],
   "source": []
  },
  {
   "cell_type": "markdown",
   "id": "27f4072e",
   "metadata": {},
   "source": [
    "### Read"
   ]
  },
  {
   "cell_type": "code",
   "execution_count": null,
   "id": "f7ef913a",
   "metadata": {},
   "outputs": [],
   "source": [
    "pd.read_csv('{}{}.csv'.format(file_path,file_name))"
   ]
  },
  {
   "cell_type": "code",
   "execution_count": null,
   "id": "911ce370",
   "metadata": {},
   "outputs": [],
   "source": []
  },
  {
   "cell_type": "code",
   "execution_count": null,
   "id": "4251ffd4",
   "metadata": {},
   "outputs": [],
   "source": [
    "instagram_df.to_csv('{}'.format(\"0908.csv\"), index=False, encoding='utf-8')"
   ]
  },
  {
   "cell_type": "code",
   "execution_count": null,
   "id": "92a69ddb",
   "metadata": {},
   "outputs": [],
   "source": [
    "instagram_df"
   ]
  },
  {
   "cell_type": "code",
   "execution_count": null,
   "id": "caefcdd6",
   "metadata": {},
   "outputs": [],
   "source": []
  }
 ],
 "metadata": {
  "kernelspec": {
   "display_name": "Python 3",
   "language": "python",
   "name": "python3"
  },
  "language_info": {
   "codemirror_mode": {
    "name": "ipython",
    "version": 3
   },
   "file_extension": ".py",
   "mimetype": "text/x-python",
   "name": "python",
   "nbconvert_exporter": "python",
   "pygments_lexer": "ipython3",
   "version": "3.8.8"
  }
 },
 "nbformat": 4,
 "nbformat_minor": 5
}
