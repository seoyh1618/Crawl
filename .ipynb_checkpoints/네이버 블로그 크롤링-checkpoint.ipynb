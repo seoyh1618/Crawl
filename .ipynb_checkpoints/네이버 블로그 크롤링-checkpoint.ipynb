{
 "cells": [
  {
   "cell_type": "markdown",
   "id": "7595f51c",
   "metadata": {},
   "source": [
    "##### 작성일 : 2021.11.05(금)\n",
    "##### 작성자  : 손해원"
   ]
  },
  {
   "cell_type": "code",
   "execution_count": 3,
   "id": "b04cf7ff",
   "metadata": {},
   "outputs": [],
   "source": [
    "import pandas as pd\n",
    "from selenium import webdriver\n",
    "import time\n",
    "from tqdm import tqdm "
   ]
  },
  {
   "cell_type": "code",
   "execution_count": 4,
   "id": "f70143bc",
   "metadata": {},
   "outputs": [
    {
     "name": "stderr",
     "output_type": "stream",
     "text": [
      "<ipython-input-4-dc79bfd412ee>:1: DeprecationWarning: executable_path has been deprecated, please pass in a Service object\n",
      "  driver = webdriver.Chrome('C:/dev_python/Webdriver/chromedriver') #### 드라이버 경로 설정\n"
     ]
    }
   ],
   "source": [
    "driver = webdriver.Chrome('C:/dev_python/Webdriver/chromedriver') #### 드라이버 경로 설정 "
   ]
  },
  {
   "cell_type": "markdown",
   "id": "615c2b81",
   "metadata": {},
   "source": [
    "##### 검색어 설정 "
   ]
  },
  {
   "cell_type": "code",
   "execution_count": 5,
   "id": "6d69259f",
   "metadata": {},
   "outputs": [],
   "source": [
    "keyword = '김천%20맛집'\n",
    "url = f'https://section.blog.naver.com/Search/Post.naver?pageNo=1&rangeType=PERIOD&orderBy=sim&startDate=2020-11-01&endDate=2021-11-05&keyword={keyword}'\n",
    "driver.get(url)"
   ]
  },
  {
   "cell_type": "markdown",
   "id": "ea4d29ef",
   "metadata": {},
   "source": [
    "##### url 수집"
   ]
  },
  {
   "cell_type": "code",
   "execution_count": null,
   "id": "61dd7330",
   "metadata": {},
   "outputs": [
    {
     "name": "stderr",
     "output_type": "stream",
     "text": [
      "<ipython-input-6-9da8efb66724>:2: DeprecationWarning: find_element_by_* commands are deprecated. Please use find_element() instead\n",
      "  search_number = int(driver.find_element_by_class_name('search_number').text.replace(',','').replace('건','')) # 총 게시물 수\n",
      "<ipython-input-6-9da8efb66724>:3: DeprecationWarning: find_elements_by_* commands are deprecated. Please use find_elements() instead\n",
      "  hrefs = driver.find_elements_by_class_name('desc_inner')\n",
      "  0%|                                                                                         | 0/2201 [00:00<?, ?it/s]<ipython-input-6-9da8efb66724>:10: DeprecationWarning: find_elements_by_* commands are deprecated. Please use find_elements() instead\n",
      "  href = driver.find_elements_by_class_name('desc_inner')[i].get_attribute('href')\n",
      "  1%|▌                                                                             | 17/2201 [01:14<2:37:21,  4.32s/it]"
     ]
    }
   ],
   "source": [
    "### 최근 1년동안의 url만 모으자 \n",
    "search_number = int(driver.find_element_by_class_name('search_number').text.replace(',','').replace('건','')) # 총 게시물 수 \n",
    "hrefs = driver.find_elements_by_class_name('desc_inner')\n",
    "url_list = []\n",
    "num = 1 \n",
    "\n",
    "for num in tqdm(range(1, int(search_number/7))):  # 총 게시물 수/7(한 페이지당 게시물 수)\n",
    "    for i in range(len(hrefs)):\n",
    "        time.sleep(0.5)\n",
    "        href = driver.find_elements_by_class_name('desc_inner')[i].get_attribute('href')\n",
    "        url_list.append(href)\n",
    "    num += 1\n",
    "    driver.get(f'https://section.blog.naver.com/Search/Post.naver?pageNo={num}&rangeType=PERIOD&orderBy=sim&startDate=2020-11-01&endDate=2021-11-05&keyword={keyword}')\n",
    "    \n",
    "    ##### 에러로 끝나도 당황하지 마세요 !!!!"
   ]
  },
  {
   "cell_type": "code",
   "execution_count": null,
   "id": "bed642de",
   "metadata": {},
   "outputs": [],
   "source": [
    "len(url_list)"
   ]
  },
  {
   "cell_type": "markdown",
   "id": "50096db8",
   "metadata": {},
   "source": [
    "##### 본문 스크랩"
   ]
  },
  {
   "cell_type": "code",
   "execution_count": null,
   "id": "9933993f",
   "metadata": {},
   "outputs": [],
   "source": [
    "driver.find_element_by_class_name('')"
   ]
  },
  {
   "cell_type": "code",
   "execution_count": null,
   "id": "ebb9d9b2",
   "metadata": {},
   "outputs": [],
   "source": [
    "title_list = []\n",
    "writer_list = []\n",
    "date_list = []\n",
    "text_list = []\n",
    "tag_list = []\n",
    "\n",
    "for i in tqdm(range(len(url_list))):\n",
    "    driver.get(url_list[i])\n",
    "    element = driver.find_element_by_id(\"mainFrame\") #iframe 태그 엘리먼트 찾기\n",
    "    driver.switch_to.frame(element) #프레임 이동\n",
    "    \n",
    "    title = driver.find_element_by_class_name('pcol1').text # 제목 \n",
    "    title_list.append(title)\n",
    "    writer = driver.find_element_by_class_name('nick').text # 글쓴이\n",
    "    writer_list.append(writer)\n",
    "    time.sleep(1)\n",
    "    try:\n",
    "        date = driver.find_element_by_class_name('se_publishDate.pcol2').text # 작성일 \n",
    "        date_list.append(date)\n",
    "    except:\n",
    "        date_list.append(\"NULL\")\n",
    "    try:\n",
    "        text = driver.find_element_by_class_name('se-main-container').text.replace('\\n',' ') # 본문 \n",
    "        text_list.append(text)\n",
    "    except:\n",
    "        text_list.append(\"NULL\")\n",
    "    \n",
    "    try: \n",
    "        tags = driver.find_elements_by_class_name('item.pcol2.itemTagfont._setTop')\n",
    "        tags_dummy = []\n",
    "        for j in range(len(tags)):\n",
    "            tag = driver.find_elements_by_class_name('item.pcol2.itemTagfont._setTop')[j].text.replace('#','')  # 해쉬태그\n",
    "            tags_dummy.append(tag)\n",
    "        tag_list.append(tags_dummy)\n",
    "    except:\n",
    "        tag_list.append(\"NULL\")\n",
    "        \n",
    "    "
   ]
  },
  {
   "cell_type": "code",
   "execution_count": null,
   "id": "92455cec",
   "metadata": {},
   "outputs": [],
   "source": [
    "len(title_list)"
   ]
  },
  {
   "cell_type": "code",
   "execution_count": null,
   "id": "f5d61594",
   "metadata": {},
   "outputs": [],
   "source": [
    "len(writer_list)"
   ]
  },
  {
   "cell_type": "code",
   "execution_count": null,
   "id": "b3a64909",
   "metadata": {},
   "outputs": [],
   "source": [
    "len(tag_list)"
   ]
  },
  {
   "cell_type": "code",
   "execution_count": null,
   "id": "314b6ed3",
   "metadata": {},
   "outputs": [],
   "source": [
    "len(writer_list)"
   ]
  },
  {
   "cell_type": "code",
   "execution_count": null,
   "id": "991191af",
   "metadata": {},
   "outputs": [],
   "source": [
    "len(text_list)"
   ]
  },
  {
   "cell_type": "markdown",
   "id": "41abc5ea",
   "metadata": {},
   "source": [
    "##### 저장"
   ]
  },
  {
   "cell_type": "code",
   "execution_count": null,
   "id": "66d610a0",
   "metadata": {},
   "outputs": [],
   "source": [
    "blog = pd.DataFrame(\n",
    "    {\n",
    "        \"source\":\"NAVER_BLOG\",\n",
    "        \"url\":url_list,\n",
    "        \"title\":title_list,\n",
    "        \"writer\":writer_list,\n",
    "        \"date\":date_list,\n",
    "        \"main_text\":text_list,\n",
    "        \"tag\":tag_list\n",
    "    }\n",
    ")"
   ]
  },
  {
   "cell_type": "code",
   "execution_count": null,
   "id": "d73e9a91",
   "metadata": {},
   "outputs": [],
   "source": [
    "blog"
   ]
  },
  {
   "cell_type": "code",
   "execution_count": null,
   "id": "5eb1a06d",
   "metadata": {},
   "outputs": [],
   "source": [
    "#blog.to_csv('/home/haewon/바탕화면/naver_blog_1109_김천맛집.csv',index=False)"
   ]
  },
  {
   "cell_type": "code",
   "execution_count": null,
   "id": "0514e60c",
   "metadata": {},
   "outputs": [],
   "source": []
  }
 ],
 "metadata": {
  "kernelspec": {
   "display_name": "Python 3",
   "language": "python",
   "name": "python3"
  },
  "language_info": {
   "codemirror_mode": {
    "name": "ipython",
    "version": 3
   },
   "file_extension": ".py",
   "mimetype": "text/x-python",
   "name": "python",
   "nbconvert_exporter": "python",
   "pygments_lexer": "ipython3",
   "version": "3.8.8"
  }
 },
 "nbformat": 4,
 "nbformat_minor": 5
}
