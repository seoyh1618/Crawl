{
 "cells": [
  {
   "cell_type": "markdown",
   "id": "e4873a2b",
   "metadata": {},
   "source": [
    "###### 작성자 : 손해원 , 수정 : 서연호 \n",
    "###### 구글지도 장소\n",
    "- 검색어 설정 후 순서대로 실행"
   ]
  },
  {
   "cell_type": "code",
   "execution_count": 1,
   "id": "6d50349f",
   "metadata": {},
   "outputs": [],
   "source": [
    "from selenium import webdriver\n",
    "from selenium.webdriver.common.keys import Keys\n",
    "from tqdm import tqdm\n",
    "import pandas as pd\n",
    "import time"
   ]
  },
  {
   "cell_type": "code",
   "execution_count": 2,
   "id": "15955db5",
   "metadata": {},
   "outputs": [
    {
     "name": "stderr",
     "output_type": "stream",
     "text": [
      "<ipython-input-2-4770ba30d060>:1: DeprecationWarning: executable_path has been deprecated, please pass in a Service object\n",
      "  driver = webdriver.Chrome('C:/dev_python/Webdriver/chromedriver')\n"
     ]
    }
   ],
   "source": [
    "driver = webdriver.Chrome('C:/dev_python/Webdriver/chromedriver')"
   ]
  },
  {
   "cell_type": "markdown",
   "id": "f44b53d0",
   "metadata": {},
   "source": [
    "##### 검색어 설정"
   ]
  },
  {
   "cell_type": "code",
   "execution_count": 3,
   "id": "6accd969",
   "metadata": {},
   "outputs": [],
   "source": [
    "url = 'https://www.google.com/maps/search/김천숙소' ##### 검색어 설정 \n",
    "driver.get(url)\n",
    "driver.maximize_window()"
   ]
  },
  {
   "cell_type": "markdown",
   "id": "4e89dfcb",
   "metadata": {},
   "source": [
    "##### url 수집"
   ]
  },
  {
   "cell_type": "code",
   "execution_count": null,
   "id": "28130c42",
   "metadata": {},
   "outputs": [
    {
     "name": "stderr",
     "output_type": "stream",
     "text": [
      "  0%|                                                                                           | 0/10 [00:00<?, ?it/s]<ipython-input-4-81575f6e30ee>:5: DeprecationWarning: find_element_by_* commands are deprecated. Please use find_element() instead\n",
      "  driver.find_element_by_class_name('a4gq8e-aVTXAb-haAclf-jRmmHf-hSRGPd').send_keys(Keys.PAGE_DOWN)\n",
      "<ipython-input-4-81575f6e30ee>:7: DeprecationWarning: find_elements_by_* commands are deprecated. Please use find_elements() instead\n",
      "  upso_list = driver.find_elements_by_class_name('a4gq8e-aVTXAb-haAclf-jRmmHf-hSRGPd') # 숙박업소 리스트\n"
     ]
    }
   ],
   "source": [
    "url_list = []\n",
    "\n",
    "for x in tqdm(range(10)):# 마지막 페이지 제외 1회당 20개   \n",
    "    for i in range(25): # 페이지 스크롤 다운 기능 \n",
    "        driver.find_element_by_class_name('a4gq8e-aVTXAb-haAclf-jRmmHf-hSRGPd').send_keys(Keys.PAGE_DOWN)\n",
    "\n",
    "    upso_list = driver.find_elements_by_class_name('a4gq8e-aVTXAb-haAclf-jRmmHf-hSRGPd') # 숙박업소 리스트\n",
    "    \n",
    "    for j in range(len(upso_list)): # url 스크랩 \n",
    "        time.sleep(1)\n",
    "        detail_url = upso_list[j].get_attribute('href')\n",
    "        url_list.append(detail_url)\n",
    "\n",
    "    driver.find_element_by_css_selector('#ppdPk-Ej1Yeb-LgbsSe-tJiF1e').click() # 다음 페이지 클릭 \n",
    "    x+=1\n",
    "\n",
    "###### 검색 내역이 끝나면 'element click intercepted' 에러 발생 후 종료 "
   ]
  },
  {
   "cell_type": "code",
   "execution_count": null,
   "id": "b89545ed",
   "metadata": {
    "scrolled": true
   },
   "outputs": [],
   "source": [
    "print('수집할 장소 개수 : ',len(url_list))\n",
    "print(url_list)"
   ]
  },
  {
   "cell_type": "markdown",
   "id": "7276bcec",
   "metadata": {},
   "source": [
    "###### 리뷰 스크랩"
   ]
  },
  {
   "cell_type": "code",
   "execution_count": null,
   "id": "1c269731",
   "metadata": {},
   "outputs": [],
   "source": [
    "\n"
   ]
  },
  {
   "cell_type": "code",
   "execution_count": null,
   "id": "82d5224b",
   "metadata": {},
   "outputs": [],
   "source": [
    "review_list = []\n",
    "#address = []\n",
    "\n",
    "for x in tqdm(range(len(url_list))):\n",
    "    # url로 이동 \n",
    "    driver.get(url_list[x])\n",
    "    time.sleep(1)\n",
    "    \n",
    "    # 숙박업소주소\n",
    "    #address_p = driver.find_element_by_css_selector('div.QSFF4-text.gm2-body-2')\n",
    "    #address.append(address_p.text)\n",
    "    place = driver.find_element_by_class_name('x3AX1-LfntMc-header-title-title.gm2-headline-5').text\n",
    "    \n",
    "    try:\n",
    "        # 리뷰 더보기 클릭 \n",
    "        driver.find_element_by_css_selector('#pane > div > div.Yr7JMd-pane-content.cYB2Ge-oHo7ed > div > div > div.x3AX1-LfntMc-header-title > div.x3AX1-LfntMc-header-title-ma6Yeb-haAclf > div.x3AX1-LfntMc-header-title-ij8cu > div.x3AX1-LfntMc-header-title-ij8cu-haAclf > div > div.gm2-body-2.h0ySl-wcwwM-RWgCYc > span:nth-child(3) > span > span > span.OAO0-ZEhYpd-vJ7A6b.OAO0-ZEhYpd-vJ7A6b-qnnXGd > span:nth-child(1) > button').click()\n",
    "        time.sleep(3)\n",
    "\n",
    "        try :\n",
    "            #리뷰 스크롤 진행 \n",
    "            for i in range(100) : \n",
    "                driver.find_element_by_class_name('siAUzd-neVct.section-scrollbox.cYB2Ge-oHo7ed.cYB2Ge-ti6hGc').send_keys(Keys.PAGE_DOWN)\n",
    "                \n",
    "            review_dict = {}\n",
    "    \n",
    "            #path \n",
    "            \n",
    "            name_p = driver.find_elements_by_css_selector('div.ODSEW-ShBeI-title')   \n",
    "            date_p = driver.find_elements_by_css_selector('span.ODSEW-ShBeI-RgZmSc-date-J42Xof-Hjleke > span:nth-child(1)')\n",
    "            text_p = driver.find_elements_by_css_selector('div.ODSEW-ShBeI-RWgCYc > div > span.ODSEW-ShBeI-text')\n",
    "            stars_p = driver.find_elements_by_css_selector('span.ODSEW-ShBeI-RGxYjb-wcwwM')\n",
    "            \n",
    "            names = []\n",
    "            dates = []\n",
    "            texts = []\n",
    "            stars = []\n",
    "            \n",
    "            # text로 변환 \n",
    "            for index in range(len(name_p)) : \n",
    "                names.append(name_p[index].text)\n",
    "                dates.append(date_p[index].text)\n",
    "                texts.append(text_p[index].text.replace('\\n',' '))   \n",
    "                stars.append(stars_p[index].text)\n",
    "                \n",
    "            review_dict['place'] = place      \n",
    "            #review_dict['address'] = address            # 주소 추가 \n",
    "            review_dict['review_cnt'] = len(names) # 리뷰 개수 추가 \n",
    "            review_dict['writer'] = names\n",
    "            review_dict['date'] = dates\n",
    "            review_dict['stars'] = stars           #리뷰별 별점 추가\n",
    "            review_dict['content'] = texts\n",
    "            review_dict['url'] = url_list[x]\n",
    "            \n",
    "            #print(review_dict)\n",
    "            \n",
    "            review_list.append(review_dict)\n",
    "            \n",
    "        except:\n",
    "            continue\n",
    "    except:\n",
    "        continue\n",
    "\n"
   ]
  },
  {
   "cell_type": "code",
   "execution_count": null,
   "id": "300e9c0c",
   "metadata": {},
   "outputs": [],
   "source": [
    "#review_df.rename(columns={'restaurant':'place'}, inplace=True)"
   ]
  },
  {
   "cell_type": "code",
   "execution_count": null,
   "id": "ecd35a3b",
   "metadata": {},
   "outputs": [],
   "source": []
  },
  {
   "cell_type": "code",
   "execution_count": null,
   "id": "a99f001d",
   "metadata": {
    "scrolled": true
   },
   "outputs": [],
   "source": [
    "review_df = pd.DataFrame(review_list)\n"
   ]
  },
  {
   "cell_type": "code",
   "execution_count": null,
   "id": "33c01b25",
   "metadata": {},
   "outputs": [],
   "source": [
    "review_df.tail(20)"
   ]
  },
  {
   "cell_type": "code",
   "execution_count": null,
   "id": "cefbf08d",
   "metadata": {},
   "outputs": [],
   "source": [
    "review_df.to_csv('C:/Users/seoyeonho/Desktop/Crawler_csv/googlemaps_1111_김천숙소(200).csv', index=False)"
   ]
  },
  {
   "cell_type": "code",
   "execution_count": null,
   "id": "afa4e903",
   "metadata": {},
   "outputs": [],
   "source": []
  },
  {
   "cell_type": "code",
   "execution_count": null,
   "id": "d5efa83c",
   "metadata": {},
   "outputs": [],
   "source": [
    "revide_df = review_df.drop(['address'],axis=1)"
   ]
  },
  {
   "cell_type": "code",
   "execution_count": null,
   "id": "2deda800",
   "metadata": {},
   "outputs": [],
   "source": [
    "revide_df"
   ]
  },
  {
   "cell_type": "code",
   "execution_count": null,
   "id": "4f4af3ab",
   "metadata": {},
   "outputs": [],
   "source": [
    "review_df.to_csv('C:/Users/seoyeonho/Desktop/Crawler_csv/googlemaps_1111_김천숙소(200)_주소삭제.csv', index=False)"
   ]
  }
 ],
 "metadata": {
  "kernelspec": {
   "display_name": "Python 3",
   "language": "python",
   "name": "python3"
  },
  "language_info": {
   "codemirror_mode": {
    "name": "ipython",
    "version": 3
   },
   "file_extension": ".py",
   "mimetype": "text/x-python",
   "name": "python",
   "nbconvert_exporter": "python",
   "pygments_lexer": "ipython3",
   "version": "3.8.8"
  }
 },
 "nbformat": 4,
 "nbformat_minor": 5
}
