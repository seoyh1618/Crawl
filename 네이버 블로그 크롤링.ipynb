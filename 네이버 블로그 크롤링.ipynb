{
 "cells": [
  {
   "cell_type": "markdown",
   "id": "7595f51c",
   "metadata": {},
   "source": [
    "##### 작성일 : 2021.11.05(금)\n",
    "##### 작성자  : 손해원"
   ]
  },
  {
   "cell_type": "code",
   "execution_count": null,
   "id": "b04cf7ff",
   "metadata": {},
   "outputs": [],
   "source": [
    "import pandas as pd\n",
    "from selenium import webdriver\n",
    "import time\n",
    "from tqdm import tqdm "
   ]
  },
  {
   "cell_type": "code",
   "execution_count": null,
   "id": "f70143bc",
   "metadata": {},
   "outputs": [],
   "source": [
    "driver = webdriver.Chrome('/home/haewon/chromedriver') #### 드라이버 경로 설정 "
   ]
  },
  {
   "cell_type": "markdown",
   "id": "615c2b81",
   "metadata": {},
   "source": [
    "##### 검색어 설정 "
   ]
  },
  {
   "cell_type": "code",
   "execution_count": null,
   "id": "6d69259f",
   "metadata": {},
   "outputs": [],
   "source": [
    "keyword = '김천%20맛집'\n",
    "url = f'https://section.blog.naver.com/Search/Post.naver?pageNo=1&rangeType=PERIOD&orderBy=sim&startDate=2020-11-01&endDate=2021-11-05&keyword={keyword}'\n",
    "driver.get(url)"
   ]
  },
  {
   "cell_type": "markdown",
   "id": "ea4d29ef",
   "metadata": {},
   "source": [
    "##### url 수집"
   ]
  },
  {
   "cell_type": "code",
   "execution_count": null,
   "id": "61dd7330",
   "metadata": {},
   "outputs": [],
   "source": [
    "### 최근 1년동안의 url만 모으자 \n",
    "search_number = int(driver.find_element_by_class_name('search_number').text.replace(',','').replace('건','')) # 총 게시물 수 \n",
    "hrefs = driver.find_elements_by_class_name('desc_inner')\n",
    "url_list = []\n",
    "num = 1 \n",
    "\n",
    "for num in tqdm(range(1, int(search_number/7))):  # 총 게시물 수/7(한 페이지당 게시물 수)\n",
    "    for i in range(len(hrefs)):\n",
    "        time.sleep(0.5)\n",
    "        href = driver.find_elements_by_class_name('desc_inner')[i].get_attribute('href')\n",
    "        url_list.append(href)\n",
    "    num += 1\n",
    "    driver.get(f'https://section.blog.naver.com/Search/Post.naver?pageNo={num}&rangeType=PERIOD&orderBy=sim&startDate=2020-11-01&endDate=2021-11-05&keyword={keyword}')\n",
    "    \n",
    "    ##### 에러로 끝나도 당황하지 마세요 !!!!"
   ]
  },
  {
   "cell_type": "code",
   "execution_count": null,
   "id": "bed642de",
   "metadata": {},
   "outputs": [],
   "source": [
    "len(url_list)"
   ]
  },
  {
   "cell_type": "markdown",
   "id": "50096db8",
   "metadata": {},
   "source": [
    "##### 본문 스크랩"
   ]
  },
  {
   "cell_type": "code",
   "execution_count": null,
   "id": "9933993f",
   "metadata": {},
   "outputs": [],
   "source": [
    "driver.find_element_by_class_name('')"
   ]
  },
  {
   "cell_type": "code",
   "execution_count": null,
   "id": "ebb9d9b2",
   "metadata": {},
   "outputs": [],
   "source": [
    "title_list = []\n",
    "writer_list = []\n",
    "date_list = []\n",
    "text_list = []\n",
    "tag_list = []\n",
    "\n",
    "for i in tqdm(range(len(url_list))):\n",
    "    driver.get(url_list[i])\n",
    "    element = driver.find_element_by_id(\"mainFrame\") #iframe 태그 엘리먼트 찾기\n",
    "    driver.switch_to.frame(element) #프레임 이동\n",
    "    \n",
    "    title = driver.find_element_by_class_name('pcol1').text # 제목 \n",
    "    title_list.append(title)\n",
    "    writer = driver.find_element_by_class_name('nick').text # 글쓴이\n",
    "    writer_list.append(writer)\n",
    "    time.sleep(1)\n",
    "    try:\n",
    "        date = driver.find_element_by_class_name('se_publishDate.pcol2').text # 작성일 \n",
    "        date_list.append(date)\n",
    "    except:\n",
    "        date_list.append(\"NULL\")\n",
    "    try:\n",
    "        text = driver.find_element_by_class_name('se-main-container').text.replace('\\n',' ') # 본문 \n",
    "        text_list.append(text)\n",
    "    except:\n",
    "        text_list.append(\"NULL\")\n",
    "    \n",
    "    try: \n",
    "        tags = driver.find_elements_by_class_name('item.pcol2.itemTagfont._setTop')\n",
    "        tags_dummy = []\n",
    "        for j in range(len(tags)):\n",
    "            tag = driver.find_elements_by_class_name('item.pcol2.itemTagfont._setTop')[j].text.replace('#','')  # 해쉬태그\n",
    "            tags_dummy.append(tag)\n",
    "        tag_list.append(tags_dummy)\n",
    "    except:\n",
    "        tag_list.append(\"NULL\")\n",
    "        \n",
    "    "
   ]
  },
  {
   "cell_type": "code",
   "execution_count": null,
   "id": "92455cec",
   "metadata": {},
   "outputs": [],
   "source": [
    "len(title_list)"
   ]
  },
  {
   "cell_type": "code",
   "execution_count": null,
   "id": "f5d61594",
   "metadata": {},
   "outputs": [],
   "source": [
    "len(writer_list)"
   ]
  },
  {
   "cell_type": "code",
   "execution_count": null,
   "id": "b3a64909",
   "metadata": {},
   "outputs": [],
   "source": [
    "len(tag_list)"
   ]
  },
  {
   "cell_type": "code",
   "execution_count": null,
   "id": "314b6ed3",
   "metadata": {},
   "outputs": [],
   "source": [
    "len(writer_list)"
   ]
  },
  {
   "cell_type": "code",
   "execution_count": null,
   "id": "991191af",
   "metadata": {},
   "outputs": [],
   "source": [
    "len(text_list)"
   ]
  },
  {
   "cell_type": "markdown",
   "id": "41abc5ea",
   "metadata": {},
   "source": [
    "##### 저장"
   ]
  },
  {
   "cell_type": "code",
   "execution_count": 69,
   "id": "66d610a0",
   "metadata": {},
   "outputs": [],
   "source": [
    "blog = pd.DataFrame(\n",
    "    {\n",
    "        \"source\":\"NAVER_BLOG\",\n",
    "        \"url\":url_list,\n",
    "        \"title\":title_list,\n",
    "        \"writer\":writer_list,\n",
    "        \"date\":date_list,\n",
    "        \"main_text\":text_list,\n",
    "        \"tag\":tag_list\n",
    "    }\n",
    ")"
   ]
  },
  {
   "cell_type": "code",
   "execution_count": 70,
   "id": "d73e9a91",
   "metadata": {},
   "outputs": [
    {
     "data": {
      "text/html": [
       "<div>\n",
       "<style scoped>\n",
       "    .dataframe tbody tr th:only-of-type {\n",
       "        vertical-align: middle;\n",
       "    }\n",
       "\n",
       "    .dataframe tbody tr th {\n",
       "        vertical-align: top;\n",
       "    }\n",
       "\n",
       "    .dataframe thead th {\n",
       "        text-align: right;\n",
       "    }\n",
       "</style>\n",
       "<table border=\"1\" class=\"dataframe\">\n",
       "  <thead>\n",
       "    <tr style=\"text-align: right;\">\n",
       "      <th></th>\n",
       "      <th>source</th>\n",
       "      <th>title</th>\n",
       "      <th>writer</th>\n",
       "      <th>date</th>\n",
       "      <th>main_text</th>\n",
       "      <th>tag</th>\n",
       "    </tr>\n",
       "  </thead>\n",
       "  <tbody>\n",
       "    <tr>\n",
       "      <th>0</th>\n",
       "      <td>NAVER_BLOG</td>\n",
       "      <td>믿고먹는 김천 맛집 리스트</td>\n",
       "      <td>오꼬밍\\n(mjmj9209)</td>\n",
       "      <td>2021. 7. 15. 8:33</td>\n",
       "      <td>유린기를 맛있게 잘 하기로 알아주는 김천 맛집을 가기 위해 온 가족이 함께 움직였어...</td>\n",
       "      <td>[김천맛집, 화타]</td>\n",
       "    </tr>\n",
       "    <tr>\n",
       "      <th>1</th>\n",
       "      <td>NAVER_BLOG</td>\n",
       "      <td>김천맛집 순대국 좋아하면 꼭 가야함!</td>\n",
       "      <td>뷰티</td>\n",
       "      <td>2021. 10. 19. 10:04</td>\n",
       "      <td>김천맛집 순대국 좋아하면 꼭 가야함! 최근데 다녀온 김천 맛집 리뷰입니다! 요즘 처...</td>\n",
       "      <td>[김천맛집, 순대국맛집]</td>\n",
       "    </tr>\n",
       "    <tr>\n",
       "      <th>2</th>\n",
       "      <td>NAVER_BLOG</td>\n",
       "      <td>김천 맛집, 김천 삼겹살 맛집, 돼지만</td>\n",
       "      <td>트윙클\\n(twinkle_ja)</td>\n",
       "      <td>2021. 7. 12. 19:21</td>\n",
       "      <td>지난 주말, 초복이였죠?  친정부모님 모시고 닭 먹으러 갈까 하다가  다들 고기를 ...</td>\n",
       "      <td>[김천맛집, 김천삼겹살, 김천삼겹살맛집, 돼지만, 돼지만김천점, 김천생삼겹살, 김천]</td>\n",
       "    </tr>\n",
       "    <tr>\n",
       "      <th>3</th>\n",
       "      <td>NAVER_BLOG</td>\n",
       "      <td>[경북 김천] 착한 짬뽕 : 저렴한 가격에 맛있고, 배도 둔둔, 마음도 든든 /  ...</td>\n",
       "      <td>미미</td>\n",
       "      <td>2021. 6. 24. 8:00</td>\n",
       "      <td>안녕하세요. 왜때문에 맛있는 건 매끼니마다 먹고싶을까요? 🤣 얼마전 미식가 친구에게...</td>\n",
       "      <td>[착한짬뽕, 김천맛집, 김천, 경북김천, 경북김천맛집, 김천짬뽕, 김천짜장면, 김천...</td>\n",
       "    </tr>\n",
       "    <tr>\n",
       "      <th>4</th>\n",
       "      <td>NAVER_BLOG</td>\n",
       "      <td>上 김천 막창 맛집 : 대구반야월막창</td>\n",
       "      <td>하짱</td>\n",
       "      <td>2021. 11. 3. 15:22</td>\n",
       "      <td>#대구반야월막창 안녕하세요 하짱입니당 :-) 오늘은 제가 태어나서 처음가보고 완전 ...</td>\n",
       "      <td>[김천막창, 김천막창맛집, 김천맛집, 신음동맛집, 대구반야월막창, 김천반야월막창, ...</td>\n",
       "    </tr>\n",
       "    <tr>\n",
       "      <th>5</th>\n",
       "      <td>NAVER_BLOG</td>\n",
       "      <td>푸짐하고 맛있는 김천 직지사 맛집</td>\n",
       "      <td>꽁쥬</td>\n",
       "      <td>2021. 8. 26. 23:51</td>\n",
       "      <td>NULL</td>\n",
       "      <td>NULL</td>\n",
       "    </tr>\n",
       "  </tbody>\n",
       "</table>\n",
       "</div>"
      ],
      "text/plain": [
       "       source                                              title  \\\n",
       "0  NAVER_BLOG                                     믿고먹는 김천 맛집 리스트   \n",
       "1  NAVER_BLOG                               김천맛집 순대국 좋아하면 꼭 가야함!   \n",
       "2  NAVER_BLOG                             김천 맛집, 김천 삼겹살 맛집, 돼지만    \n",
       "3  NAVER_BLOG  [경북 김천] 착한 짬뽕 : 저렴한 가격에 맛있고, 배도 둔둔, 마음도 든든 /  ...   \n",
       "4  NAVER_BLOG                               上 김천 막창 맛집 : 대구반야월막창   \n",
       "5  NAVER_BLOG                                 푸짐하고 맛있는 김천 직지사 맛집   \n",
       "\n",
       "              writer                 date  \\\n",
       "0    오꼬밍\\n(mjmj9209)    2021. 7. 15. 8:33   \n",
       "1                 뷰티  2021. 10. 19. 10:04   \n",
       "2  트윙클\\n(twinkle_ja)   2021. 7. 12. 19:21   \n",
       "3                 미미    2021. 6. 24. 8:00   \n",
       "4                 하짱   2021. 11. 3. 15:22   \n",
       "5                 꽁쥬   2021. 8. 26. 23:51   \n",
       "\n",
       "                                           main_text  \\\n",
       "0  유린기를 맛있게 잘 하기로 알아주는 김천 맛집을 가기 위해 온 가족이 함께 움직였어...   \n",
       "1  김천맛집 순대국 좋아하면 꼭 가야함! 최근데 다녀온 김천 맛집 리뷰입니다! 요즘 처...   \n",
       "2  지난 주말, 초복이였죠?  친정부모님 모시고 닭 먹으러 갈까 하다가  다들 고기를 ...   \n",
       "3  안녕하세요. 왜때문에 맛있는 건 매끼니마다 먹고싶을까요? 🤣 얼마전 미식가 친구에게...   \n",
       "4  #대구반야월막창 안녕하세요 하짱입니당 :-) 오늘은 제가 태어나서 처음가보고 완전 ...   \n",
       "5                                               NULL   \n",
       "\n",
       "                                                 tag  \n",
       "0                                         [김천맛집, 화타]  \n",
       "1                                      [김천맛집, 순대국맛집]  \n",
       "2    [김천맛집, 김천삼겹살, 김천삼겹살맛집, 돼지만, 돼지만김천점, 김천생삼겹살, 김천]  \n",
       "3  [착한짬뽕, 김천맛집, 김천, 경북김천, 경북김천맛집, 김천짬뽕, 김천짜장면, 김천...  \n",
       "4  [김천막창, 김천막창맛집, 김천맛집, 신음동맛집, 대구반야월막창, 김천반야월막창, ...  \n",
       "5                                               NULL  "
      ]
     },
     "execution_count": 70,
     "metadata": {},
     "output_type": "execute_result"
    }
   ],
   "source": [
    "blog"
   ]
  },
  {
   "cell_type": "code",
   "execution_count": 56,
   "id": "5eb1a06d",
   "metadata": {},
   "outputs": [],
   "source": [
    "blog.to_csv('/home/haewon/바탕화면/naver_blog_1109_김천맛집.csv',index=False)"
   ]
  },
  {
   "cell_type": "code",
   "execution_count": null,
   "id": "0514e60c",
   "metadata": {},
   "outputs": [],
   "source": []
  }
 ],
 "metadata": {
  "kernelspec": {
   "display_name": "Python 3",
   "language": "python",
   "name": "python3"
  },
  "language_info": {
   "codemirror_mode": {
    "name": "ipython",
    "version": 3
   },
   "file_extension": ".py",
   "mimetype": "text/x-python",
   "name": "python",
   "nbconvert_exporter": "python",
   "pygments_lexer": "ipython3",
   "version": "3.8.8"
  }
 },
 "nbformat": 4,
 "nbformat_minor": 5
}
